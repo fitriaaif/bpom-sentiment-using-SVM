{
  "cells": [
    {
      "cell_type": "markdown",
      "metadata": {
        "id": "UoOz4NaABlzz"
      },
      "source": [
        "## Import Library"
      ]
    },
    {
      "cell_type": "code",
      "execution_count": 1,
      "metadata": {
        "id": "rELz8buQ5_sQ",
        "colab": {
          "base_uri": "https://localhost:8080/"
        },
        "outputId": "764037d1-a8cc-4a29-8a08-547b062b027e"
      },
      "outputs": [
        {
          "output_type": "stream",
          "name": "stdout",
          "text": [
            "Mounted at /content/drive\n"
          ]
        }
      ],
      "source": [
        "from google.colab import drive\n",
        "drive.mount('/content/drive')"
      ]
    },
    {
      "cell_type": "code",
      "execution_count": 2,
      "metadata": {
        "id": "uKrr3N7Q6CyN"
      },
      "outputs": [],
      "source": [
        "import pandas as pd\n",
        "import numpy as np\n",
        "import seaborn as sns\n",
        "import matplotlib.pyplot as plt\n",
        "import random\n",
        "\n",
        "from sklearn import svm\n",
        "from sklearn.svm import SVC\n",
        "from sklearn.model_selection import train_test_split, cross_val_score\n",
        "from sklearn.feature_extraction.text import TfidfVectorizer\n",
        "from sklearn.metrics import accuracy_score, recall_score, precision_score, f1_score\n",
        "from sklearn.metrics import confusion_matrix, classification_report\n",
        "from imblearn.over_sampling import ADASYN\n",
        "from collections import Counter"
      ]
    },
    {
      "cell_type": "code",
      "execution_count": 3,
      "metadata": {
        "id": "L6w64U6ekoye",
        "colab": {
          "base_uri": "https://localhost:8080/",
          "height": 362
        },
        "outputId": "a2b76939-4570-48e6-a0aa-0d41c1faed18"
      },
      "outputs": [
        {
          "output_type": "execute_result",
          "data": {
            "text/plain": [
              "                                           full_text  \\\n",
              "0  Video: BPOM Minta Masyarakat Aktif Awasi Pered...   \n",
              "1  @BPOM_RI Yeee masyarakat disuruh ningkatin kes...   \n",
              "2  Untuk memaksimalkan pengawasan produk skincare...   \n",
              "3  Salah satu topik yang dibahas adalah upaya mew...   \n",
              "4  Haiii Dear 🥰\\r\\nBiasanya bumil gaberani pake s...   \n",
              "\n",
              "                                        case_folding  \\\n",
              "0  video: bpom minta masyarakat aktif awasi pered...   \n",
              "1  @bpom_ri yeee masyarakat disuruh ningkatin kes...   \n",
              "2  untuk memaksimalkan pengawasan produk skincare...   \n",
              "3  salah satu topik yang dibahas adalah upaya mew...   \n",
              "4  haiii dear 🥰\\r\\nbiasanya bumil gaberani pake s...   \n",
              "\n",
              "                                        clean_review  \\\n",
              "0  video bpom minta masyarakat aktif awasi pereda...   \n",
              "1   yee masyarakat disuruh ningkatin kesadaran la...   \n",
              "2  untuk memaksimalkan pengawasan produk skincare...   \n",
              "3  salah satu topik yang dibahas adalah upaya mew...   \n",
              "4  haii dear biasanya bumil gaberani pake skincar...   \n",
              "\n",
              "                                       normalization  \\\n",
              "0  video bpom meminta masyarakat aktif awasi pere...   \n",
              "1  ya masyarakat disuruh ningkatin kesadaran lah ...   \n",
              "2  untuk memaksimalkan pengawasan produk skincare...   \n",
              "3  salah satu topik yang dibahas adalah upaya mew...   \n",
              "4  hai dear biasanya bumil gaberani pakai skincar...   \n",
              "\n",
              "                                               token  \\\n",
              "0  ['video', 'bpom', 'meminta', 'masyarakat', 'ak...   \n",
              "1  ['ya', 'masyarakat', 'disuruh', 'ningkatin', '...   \n",
              "2  ['untuk', 'memaksimalkan', 'pengawasan', 'prod...   \n",
              "3  ['salah', 'satu', 'topik', 'yang', 'dibahas', ...   \n",
              "4  ['hai', 'dear', 'biasanya', 'bumil', 'gaberani...   \n",
              "\n",
              "                                         stop_review  \\\n",
              "0  ['video', 'bpom', 'masyarakat', 'aktif', 'awas...   \n",
              "1  ['masyarakat', 'disuruh', 'ningkatin', 'kesada...   \n",
              "2  ['memaksimalkan', 'pengawasan', 'produk', 'ski...   \n",
              "3  ['salah', 'topik', 'dibahas', 'upaya', 'mewuju...   \n",
              "4  ['hai', 'dear', 'bumil', 'gaberani', 'pakai', ...   \n",
              "\n",
              "                                         stem_review  \\\n",
              "0  video bpom masyarakat aktif awas edar skincare...   \n",
              "1  masyarakat suruh ningkatin sadar kerja bpom sk...   \n",
              "2  maksimal awas produk skincare kashuri sila mas...   \n",
              "3  salah topik bahas upaya wujud kolaborasi linta...   \n",
              "4  hai dear bumil gaberani pakai skincare takut p...   \n",
              "\n",
              "                                         prepos_text  polarity_score  polarity  \n",
              "0  ['video', 'bpom', 'masyarakat', 'aktif', 'awas...               2         1  \n",
              "1  ['masyarakat', 'suruh', 'ningkatin', 'sadar', ...             -19        -1  \n",
              "2  ['maksimal', 'awas', 'produk', 'skincare', 'ka...              10         1  \n",
              "3  ['salah', 'topik', 'bahas', 'upaya', 'wujud', ...              -4        -1  \n",
              "4  ['hai', 'dear', 'bumil', 'gaberani', 'pakai', ...               7         1  "
            ],
            "text/html": [
              "\n",
              "  <div id=\"df-f0e38887-b505-4b48-9c6a-4bb7f4ac55a2\" class=\"colab-df-container\">\n",
              "    <div>\n",
              "<style scoped>\n",
              "    .dataframe tbody tr th:only-of-type {\n",
              "        vertical-align: middle;\n",
              "    }\n",
              "\n",
              "    .dataframe tbody tr th {\n",
              "        vertical-align: top;\n",
              "    }\n",
              "\n",
              "    .dataframe thead th {\n",
              "        text-align: right;\n",
              "    }\n",
              "</style>\n",
              "<table border=\"1\" class=\"dataframe\">\n",
              "  <thead>\n",
              "    <tr style=\"text-align: right;\">\n",
              "      <th></th>\n",
              "      <th>full_text</th>\n",
              "      <th>case_folding</th>\n",
              "      <th>clean_review</th>\n",
              "      <th>normalization</th>\n",
              "      <th>token</th>\n",
              "      <th>stop_review</th>\n",
              "      <th>stem_review</th>\n",
              "      <th>prepos_text</th>\n",
              "      <th>polarity_score</th>\n",
              "      <th>polarity</th>\n",
              "    </tr>\n",
              "  </thead>\n",
              "  <tbody>\n",
              "    <tr>\n",
              "      <th>0</th>\n",
              "      <td>Video: BPOM Minta Masyarakat Aktif Awasi Pered...</td>\n",
              "      <td>video: bpom minta masyarakat aktif awasi pered...</td>\n",
              "      <td>video bpom minta masyarakat aktif awasi pereda...</td>\n",
              "      <td>video bpom meminta masyarakat aktif awasi pere...</td>\n",
              "      <td>['video', 'bpom', 'meminta', 'masyarakat', 'ak...</td>\n",
              "      <td>['video', 'bpom', 'masyarakat', 'aktif', 'awas...</td>\n",
              "      <td>video bpom masyarakat aktif awas edar skincare...</td>\n",
              "      <td>['video', 'bpom', 'masyarakat', 'aktif', 'awas...</td>\n",
              "      <td>2</td>\n",
              "      <td>1</td>\n",
              "    </tr>\n",
              "    <tr>\n",
              "      <th>1</th>\n",
              "      <td>@BPOM_RI Yeee masyarakat disuruh ningkatin kes...</td>\n",
              "      <td>@bpom_ri yeee masyarakat disuruh ningkatin kes...</td>\n",
              "      <td>yee masyarakat disuruh ningkatin kesadaran la...</td>\n",
              "      <td>ya masyarakat disuruh ningkatin kesadaran lah ...</td>\n",
              "      <td>['ya', 'masyarakat', 'disuruh', 'ningkatin', '...</td>\n",
              "      <td>['masyarakat', 'disuruh', 'ningkatin', 'kesada...</td>\n",
              "      <td>masyarakat suruh ningkatin sadar kerja bpom sk...</td>\n",
              "      <td>['masyarakat', 'suruh', 'ningkatin', 'sadar', ...</td>\n",
              "      <td>-19</td>\n",
              "      <td>-1</td>\n",
              "    </tr>\n",
              "    <tr>\n",
              "      <th>2</th>\n",
              "      <td>Untuk memaksimalkan pengawasan produk skincare...</td>\n",
              "      <td>untuk memaksimalkan pengawasan produk skincare...</td>\n",
              "      <td>untuk memaksimalkan pengawasan produk skincare...</td>\n",
              "      <td>untuk memaksimalkan pengawasan produk skincare...</td>\n",
              "      <td>['untuk', 'memaksimalkan', 'pengawasan', 'prod...</td>\n",
              "      <td>['memaksimalkan', 'pengawasan', 'produk', 'ski...</td>\n",
              "      <td>maksimal awas produk skincare kashuri sila mas...</td>\n",
              "      <td>['maksimal', 'awas', 'produk', 'skincare', 'ka...</td>\n",
              "      <td>10</td>\n",
              "      <td>1</td>\n",
              "    </tr>\n",
              "    <tr>\n",
              "      <th>3</th>\n",
              "      <td>Salah satu topik yang dibahas adalah upaya mew...</td>\n",
              "      <td>salah satu topik yang dibahas adalah upaya mew...</td>\n",
              "      <td>salah satu topik yang dibahas adalah upaya mew...</td>\n",
              "      <td>salah satu topik yang dibahas adalah upaya mew...</td>\n",
              "      <td>['salah', 'satu', 'topik', 'yang', 'dibahas', ...</td>\n",
              "      <td>['salah', 'topik', 'dibahas', 'upaya', 'mewuju...</td>\n",
              "      <td>salah topik bahas upaya wujud kolaborasi linta...</td>\n",
              "      <td>['salah', 'topik', 'bahas', 'upaya', 'wujud', ...</td>\n",
              "      <td>-4</td>\n",
              "      <td>-1</td>\n",
              "    </tr>\n",
              "    <tr>\n",
              "      <th>4</th>\n",
              "      <td>Haiii Dear 🥰\\r\\nBiasanya bumil gaberani pake s...</td>\n",
              "      <td>haiii dear 🥰\\r\\nbiasanya bumil gaberani pake s...</td>\n",
              "      <td>haii dear biasanya bumil gaberani pake skincar...</td>\n",
              "      <td>hai dear biasanya bumil gaberani pakai skincar...</td>\n",
              "      <td>['hai', 'dear', 'biasanya', 'bumil', 'gaberani...</td>\n",
              "      <td>['hai', 'dear', 'bumil', 'gaberani', 'pakai', ...</td>\n",
              "      <td>hai dear bumil gaberani pakai skincare takut p...</td>\n",
              "      <td>['hai', 'dear', 'bumil', 'gaberani', 'pakai', ...</td>\n",
              "      <td>7</td>\n",
              "      <td>1</td>\n",
              "    </tr>\n",
              "  </tbody>\n",
              "</table>\n",
              "</div>\n",
              "    <div class=\"colab-df-buttons\">\n",
              "\n",
              "  <div class=\"colab-df-container\">\n",
              "    <button class=\"colab-df-convert\" onclick=\"convertToInteractive('df-f0e38887-b505-4b48-9c6a-4bb7f4ac55a2')\"\n",
              "            title=\"Convert this dataframe to an interactive table.\"\n",
              "            style=\"display:none;\">\n",
              "\n",
              "  <svg xmlns=\"http://www.w3.org/2000/svg\" height=\"24px\" viewBox=\"0 -960 960 960\">\n",
              "    <path d=\"M120-120v-720h720v720H120Zm60-500h600v-160H180v160Zm220 220h160v-160H400v160Zm0 220h160v-160H400v160ZM180-400h160v-160H180v160Zm440 0h160v-160H620v160ZM180-180h160v-160H180v160Zm440 0h160v-160H620v160Z\"/>\n",
              "  </svg>\n",
              "    </button>\n",
              "\n",
              "  <style>\n",
              "    .colab-df-container {\n",
              "      display:flex;\n",
              "      gap: 12px;\n",
              "    }\n",
              "\n",
              "    .colab-df-convert {\n",
              "      background-color: #E8F0FE;\n",
              "      border: none;\n",
              "      border-radius: 50%;\n",
              "      cursor: pointer;\n",
              "      display: none;\n",
              "      fill: #1967D2;\n",
              "      height: 32px;\n",
              "      padding: 0 0 0 0;\n",
              "      width: 32px;\n",
              "    }\n",
              "\n",
              "    .colab-df-convert:hover {\n",
              "      background-color: #E2EBFA;\n",
              "      box-shadow: 0px 1px 2px rgba(60, 64, 67, 0.3), 0px 1px 3px 1px rgba(60, 64, 67, 0.15);\n",
              "      fill: #174EA6;\n",
              "    }\n",
              "\n",
              "    .colab-df-buttons div {\n",
              "      margin-bottom: 4px;\n",
              "    }\n",
              "\n",
              "    [theme=dark] .colab-df-convert {\n",
              "      background-color: #3B4455;\n",
              "      fill: #D2E3FC;\n",
              "    }\n",
              "\n",
              "    [theme=dark] .colab-df-convert:hover {\n",
              "      background-color: #434B5C;\n",
              "      box-shadow: 0px 1px 3px 1px rgba(0, 0, 0, 0.15);\n",
              "      filter: drop-shadow(0px 1px 2px rgba(0, 0, 0, 0.3));\n",
              "      fill: #FFFFFF;\n",
              "    }\n",
              "  </style>\n",
              "\n",
              "    <script>\n",
              "      const buttonEl =\n",
              "        document.querySelector('#df-f0e38887-b505-4b48-9c6a-4bb7f4ac55a2 button.colab-df-convert');\n",
              "      buttonEl.style.display =\n",
              "        google.colab.kernel.accessAllowed ? 'block' : 'none';\n",
              "\n",
              "      async function convertToInteractive(key) {\n",
              "        const element = document.querySelector('#df-f0e38887-b505-4b48-9c6a-4bb7f4ac55a2');\n",
              "        const dataTable =\n",
              "          await google.colab.kernel.invokeFunction('convertToInteractive',\n",
              "                                                    [key], {});\n",
              "        if (!dataTable) return;\n",
              "\n",
              "        const docLinkHtml = 'Like what you see? Visit the ' +\n",
              "          '<a target=\"_blank\" href=https://colab.research.google.com/notebooks/data_table.ipynb>data table notebook</a>'\n",
              "          + ' to learn more about interactive tables.';\n",
              "        element.innerHTML = '';\n",
              "        dataTable['output_type'] = 'display_data';\n",
              "        await google.colab.output.renderOutput(dataTable, element);\n",
              "        const docLink = document.createElement('div');\n",
              "        docLink.innerHTML = docLinkHtml;\n",
              "        element.appendChild(docLink);\n",
              "      }\n",
              "    </script>\n",
              "  </div>\n",
              "\n",
              "\n",
              "    <div id=\"df-8550d957-f98c-41de-bb13-9aad45b1ff05\">\n",
              "      <button class=\"colab-df-quickchart\" onclick=\"quickchart('df-8550d957-f98c-41de-bb13-9aad45b1ff05')\"\n",
              "                title=\"Suggest charts\"\n",
              "                style=\"display:none;\">\n",
              "\n",
              "<svg xmlns=\"http://www.w3.org/2000/svg\" height=\"24px\"viewBox=\"0 0 24 24\"\n",
              "     width=\"24px\">\n",
              "    <g>\n",
              "        <path d=\"M19 3H5c-1.1 0-2 .9-2 2v14c0 1.1.9 2 2 2h14c1.1 0 2-.9 2-2V5c0-1.1-.9-2-2-2zM9 17H7v-7h2v7zm4 0h-2V7h2v10zm4 0h-2v-4h2v4z\"/>\n",
              "    </g>\n",
              "</svg>\n",
              "      </button>\n",
              "\n",
              "<style>\n",
              "  .colab-df-quickchart {\n",
              "      --bg-color: #E8F0FE;\n",
              "      --fill-color: #1967D2;\n",
              "      --hover-bg-color: #E2EBFA;\n",
              "      --hover-fill-color: #174EA6;\n",
              "      --disabled-fill-color: #AAA;\n",
              "      --disabled-bg-color: #DDD;\n",
              "  }\n",
              "\n",
              "  [theme=dark] .colab-df-quickchart {\n",
              "      --bg-color: #3B4455;\n",
              "      --fill-color: #D2E3FC;\n",
              "      --hover-bg-color: #434B5C;\n",
              "      --hover-fill-color: #FFFFFF;\n",
              "      --disabled-bg-color: #3B4455;\n",
              "      --disabled-fill-color: #666;\n",
              "  }\n",
              "\n",
              "  .colab-df-quickchart {\n",
              "    background-color: var(--bg-color);\n",
              "    border: none;\n",
              "    border-radius: 50%;\n",
              "    cursor: pointer;\n",
              "    display: none;\n",
              "    fill: var(--fill-color);\n",
              "    height: 32px;\n",
              "    padding: 0;\n",
              "    width: 32px;\n",
              "  }\n",
              "\n",
              "  .colab-df-quickchart:hover {\n",
              "    background-color: var(--hover-bg-color);\n",
              "    box-shadow: 0 1px 2px rgba(60, 64, 67, 0.3), 0 1px 3px 1px rgba(60, 64, 67, 0.15);\n",
              "    fill: var(--button-hover-fill-color);\n",
              "  }\n",
              "\n",
              "  .colab-df-quickchart-complete:disabled,\n",
              "  .colab-df-quickchart-complete:disabled:hover {\n",
              "    background-color: var(--disabled-bg-color);\n",
              "    fill: var(--disabled-fill-color);\n",
              "    box-shadow: none;\n",
              "  }\n",
              "\n",
              "  .colab-df-spinner {\n",
              "    border: 2px solid var(--fill-color);\n",
              "    border-color: transparent;\n",
              "    border-bottom-color: var(--fill-color);\n",
              "    animation:\n",
              "      spin 1s steps(1) infinite;\n",
              "  }\n",
              "\n",
              "  @keyframes spin {\n",
              "    0% {\n",
              "      border-color: transparent;\n",
              "      border-bottom-color: var(--fill-color);\n",
              "      border-left-color: var(--fill-color);\n",
              "    }\n",
              "    20% {\n",
              "      border-color: transparent;\n",
              "      border-left-color: var(--fill-color);\n",
              "      border-top-color: var(--fill-color);\n",
              "    }\n",
              "    30% {\n",
              "      border-color: transparent;\n",
              "      border-left-color: var(--fill-color);\n",
              "      border-top-color: var(--fill-color);\n",
              "      border-right-color: var(--fill-color);\n",
              "    }\n",
              "    40% {\n",
              "      border-color: transparent;\n",
              "      border-right-color: var(--fill-color);\n",
              "      border-top-color: var(--fill-color);\n",
              "    }\n",
              "    60% {\n",
              "      border-color: transparent;\n",
              "      border-right-color: var(--fill-color);\n",
              "    }\n",
              "    80% {\n",
              "      border-color: transparent;\n",
              "      border-right-color: var(--fill-color);\n",
              "      border-bottom-color: var(--fill-color);\n",
              "    }\n",
              "    90% {\n",
              "      border-color: transparent;\n",
              "      border-bottom-color: var(--fill-color);\n",
              "    }\n",
              "  }\n",
              "</style>\n",
              "\n",
              "      <script>\n",
              "        async function quickchart(key) {\n",
              "          const quickchartButtonEl =\n",
              "            document.querySelector('#' + key + ' button');\n",
              "          quickchartButtonEl.disabled = true;  // To prevent multiple clicks.\n",
              "          quickchartButtonEl.classList.add('colab-df-spinner');\n",
              "          try {\n",
              "            const charts = await google.colab.kernel.invokeFunction(\n",
              "                'suggestCharts', [key], {});\n",
              "          } catch (error) {\n",
              "            console.error('Error during call to suggestCharts:', error);\n",
              "          }\n",
              "          quickchartButtonEl.classList.remove('colab-df-spinner');\n",
              "          quickchartButtonEl.classList.add('colab-df-quickchart-complete');\n",
              "        }\n",
              "        (() => {\n",
              "          let quickchartButtonEl =\n",
              "            document.querySelector('#df-8550d957-f98c-41de-bb13-9aad45b1ff05 button');\n",
              "          quickchartButtonEl.style.display =\n",
              "            google.colab.kernel.accessAllowed ? 'block' : 'none';\n",
              "        })();\n",
              "      </script>\n",
              "    </div>\n",
              "\n",
              "    </div>\n",
              "  </div>\n"
            ],
            "application/vnd.google.colaboratory.intrinsic+json": {
              "type": "dataframe",
              "variable_name": "data_labeling",
              "summary": "{\n  \"name\": \"data_labeling\",\n  \"rows\": 948,\n  \"fields\": [\n    {\n      \"column\": \"full_text\",\n      \"properties\": {\n        \"dtype\": \"string\",\n        \"num_unique_values\": 909,\n        \"samples\": [\n          \"Nggak instan tapi progresnya ada produk lokal no overclaim sudah halal dan BPOM bahkan ownernya nggak sibuk spill harta tapi spill pake produknya. Skincare basicnya 250ribuan aja bisa gini \",\n          \"@oohdyt Ngerti gak sih yg jadi concern buka masalah babi nya tapi PENIPUAN. Dengan dia self-claimed halal certified aja udah salah. Coba kl km beli skincare yg kamu pakai rutin ktnya lolos bpom ternyata no bpom bodong dan mengandung merkuri km diem aja? Perlindungan konsumen buat apa?!\",\n          \"@teppy87 @tbputera Hai Teppy, mau promosiin lagi untuk yang berjerawat/bruntusan/kulit kusam bisa cek @skinbynofilter. Skincare lokal, harganya terjangkau, kualitas import, sudah BPOM, dan sudah dapat lebih dari 1000 review bintang 5 di https://t.co/em70i6gTRR https://t.co/7qgi6uyHX7\"\n        ],\n        \"semantic_type\": \"\",\n        \"description\": \"\"\n      }\n    },\n    {\n      \"column\": \"case_folding\",\n      \"properties\": {\n        \"dtype\": \"string\",\n        \"num_unique_values\": 909,\n        \"samples\": [\n          \"nggak instan tapi progresnya ada produk lokal no overclaim sudah halal dan bpom bahkan ownernya nggak sibuk spill harta tapi spill pake produknya. skincare basicnya 250ribuan aja bisa gini \",\n          \"@oohdyt ngerti gak sih yg jadi concern buka masalah babi nya tapi penipuan. dengan dia self-claimed halal certified aja udah salah. coba kl km beli skincare yg kamu pakai rutin ktnya lolos bpom ternyata no bpom bodong dan mengandung merkuri km diem aja? perlindungan konsumen buat apa?!\",\n          \"@teppy87 @tbputera hai teppy, mau promosiin lagi untuk yang berjerawat/bruntusan/kulit kusam bisa cek @skinbynofilter. skincare lokal, harganya terjangkau, kualitas import, sudah bpom, dan sudah dapat lebih dari 1000 review bintang 5 di https://t.co/em70i6gtrr https://t.co/7qgi6uyhx7\"\n        ],\n        \"semantic_type\": \"\",\n        \"description\": \"\"\n      }\n    },\n    {\n      \"column\": \"clean_review\",\n      \"properties\": {\n        \"dtype\": \"string\",\n        \"num_unique_values\": 826,\n        \"samples\": [\n          \" tapi emang skincare lokal banyak yg overclaim anjim apalagi yg cina tuh wkwk mana ngaku produk korea lah produk kanada lah kocakk\",\n          \" berarti produk yang lu jual ilegal itu ga terdaftar di bpom setau gw kalo udah menjual seperti itu berarti biasanya ada sindikatnya soalnya pasti bukan partai kecil itu soalnya kan banyak yang ilegal ya kalo urusan skincare nah mungkin itulah kenapa lu bisa ketangkep\",\n          \" daftar skincare dan kosmetik ilegal berbahaya tahun temuan bpom ada tabita hingga cindynal via \"\n        ],\n        \"semantic_type\": \"\",\n        \"description\": \"\"\n      }\n    },\n    {\n      \"column\": \"normalization\",\n      \"properties\": {\n        \"dtype\": \"string\",\n        \"num_unique_values\": 821,\n        \"samples\": [\n          \"tapu memang benar sih bukan menjelekkan skincare lokal semua skincare lokal tuh overclaim banget kebanyakkan marketing apalagi tuh yang di promosiin artis atau influen berlebihan banget gua sbgi acne dry skin sudah beli skincare yang viral semuanya enggak cocok padahal claimnya bisa meredakan jerawat\",\n          \"habis lihat yang viral skincare heni ternyata berbahaya untung belum pernah pakai kenapa bisa masih beredar jangan punya orang dalam bpom usut kosmetik ilegal\",\n          \"daftar skincare dan kosmetik ilegal berbahaya tahun temuan bpom ada tabita hingga cindynal via\"\n        ],\n        \"semantic_type\": \"\",\n        \"description\": \"\"\n      }\n    },\n    {\n      \"column\": \"token\",\n      \"properties\": {\n        \"dtype\": \"string\",\n        \"num_unique_values\": 821,\n        \"samples\": [\n          \"['tapu', 'memang', 'benar', 'sih', 'bukan', 'menjelekkan', 'skincare', 'lokal', 'semua', 'skincare', 'lokal', 'tuh', 'overclaim', 'banget', 'kebanyakkan', 'marketing', 'apalagi', 'tuh', 'yang', 'di', 'promosiin', 'artis', 'atau', 'influen', 'berlebihan', 'banget', 'gua', 'sbgi', 'acne', 'dry', 'skin', 'sudah', 'beli', 'skincare', 'yang', 'viral', 'semuanya', 'enggak', 'cocok', 'padahal', 'claimnya', 'bisa', 'meredakan', 'jerawat']\",\n          \"['habis', 'lihat', 'yang', 'viral', 'skincare', 'heni', 'ternyata', 'berbahaya', 'untung', 'belum', 'pernah', 'pakai', 'kenapa', 'bisa', 'masih', 'beredar', 'jangan', 'punya', 'orang', 'dalam', 'bpom', 'usut', 'kosmetik', 'ilegal']\",\n          \"['daftar', 'skincare', 'dan', 'kosmetik', 'ilegal', 'berbahaya', 'tahun', 'temuan', 'bpom', 'ada', 'tabita', 'hingga', 'cindynal', 'via']\"\n        ],\n        \"semantic_type\": \"\",\n        \"description\": \"\"\n      }\n    },\n    {\n      \"column\": \"stop_review\",\n      \"properties\": {\n        \"dtype\": \"string\",\n        \"num_unique_values\": 819,\n        \"samples\": [\n          \"['daftar', 'kosmetik', 'berbahaya', 'diumumkan', 'bpom', 'aef', 'beauty', 'by', 'anita', 'putri', 'tama', 'day', 'series', 'aef', 'beauty', 'by', 'anita', 'putri', 'tama', 'night', 'series', 'aef', 'beauty', 'by', 'anita', 'putri', 'tama', 'face', 'toner', 'amiglow', 'night', 'series', 'booster', 'up', 'dazzling', 'lumina', 'night', 'cream', 'byout', 'skincare']\",\n          \"['ria', 'agustina', 'sarjana', 'perikanan', 'membuka', 'klinik', 'kecantikan', 'lisensi', 'resmi', 'bermodal', 'pelatihan', 'singkat', 'ria', 'sukses', 'menarik', 'pelanggan', 'strategi', 'media', 'sosial', 'terjerat', 'hukum', 'ditangkap', 'karyawannya', 'alat', 'bahan']\",\n          \"['ngotot', 'membela', 'doktif', 'mbak', 'mas', 'masyarakat', 'skincare', 'beredar', 'pasaran', 'overclaim', 'mengandung', 'bahan', 'berbahaya', 'paracetamol', 'bahaya', 'lulus', 'bpom']\"\n        ],\n        \"semantic_type\": \"\",\n        \"description\": \"\"\n      }\n    },\n    {\n      \"column\": \"stem_review\",\n      \"properties\": {\n        \"dtype\": \"string\",\n        \"num_unique_values\": 819,\n        \"samples\": [\n          \"daftar kosmetik bahaya umum bpom aef beauty by anita putri tama day series aef beauty by anita putri tama night series aef beauty by anita putri tama face toner amiglow night series booster up dazzling lumina night cream byout skincare\",\n          \"ria agustina sarjana ikan buka klinik cantik lisensi resmi modal latih singkat ria sukses tarik langgan strategi media sosial jerat hukum tangkap karyawannya alat bahan\",\n          \"ngotot bela doktif mbak mas masyarakat skincare edar pasar overclaim kandung bahan bahaya paracetamol bahaya lulus bpom\"\n        ],\n        \"semantic_type\": \"\",\n        \"description\": \"\"\n      }\n    },\n    {\n      \"column\": \"prepos_text\",\n      \"properties\": {\n        \"dtype\": \"string\",\n        \"num_unique_values\": 819,\n        \"samples\": [\n          \"['daftar', 'kosmetik', 'bahaya', 'umum', 'bpom', 'aef', 'beauty', 'by', 'anita', 'putri', 'tama', 'day', 'series', 'aef', 'beauty', 'by', 'anita', 'putri', 'tama', 'night', 'series', 'aef', 'beauty', 'by', 'anita', 'putri', 'tama', 'face', 'toner', 'amiglow', 'night', 'series', 'booster', 'up', 'dazzling', 'lumina', 'night', 'cream', 'byout', 'skincare']\",\n          \"['ria', 'agustina', 'sarjana', 'ikan', 'buka', 'klinik', 'cantik', 'lisensi', 'resmi', 'modal', 'latih', 'singkat', 'ria', 'sukses', 'tarik', 'langgan', 'strategi', 'media', 'sosial', 'jerat', 'hukum', 'tangkap', 'karyawannya', 'alat', 'bahan']\",\n          \"['ngotot', 'bela', 'doktif', 'mbak', 'mas', 'masyarakat', 'skincare', 'edar', 'pasar', 'overclaim', 'kandung', 'bahan', 'bahaya', 'paracetamol', 'bahaya', 'lulus', 'bpom']\"\n        ],\n        \"semantic_type\": \"\",\n        \"description\": \"\"\n      }\n    },\n    {\n      \"column\": \"polarity_score\",\n      \"properties\": {\n        \"dtype\": \"number\",\n        \"std\": 7,\n        \"min\": -40,\n        \"max\": 19,\n        \"num_unique_values\": 45,\n        \"samples\": [\n          15,\n          -16,\n          -30\n        ],\n        \"semantic_type\": \"\",\n        \"description\": \"\"\n      }\n    },\n    {\n      \"column\": \"polarity\",\n      \"properties\": {\n        \"dtype\": \"number\",\n        \"std\": 0,\n        \"min\": -1,\n        \"max\": 1,\n        \"num_unique_values\": 2,\n        \"samples\": [\n          -1,\n          1\n        ],\n        \"semantic_type\": \"\",\n        \"description\": \"\"\n      }\n    }\n  ]\n}"
            }
          },
          "metadata": {},
          "execution_count": 3
        }
      ],
      "source": [
        "data_labeling = pd.read_csv('/content/drive/MyDrive/Colab Notebooks/bpom_skincare/data_labeling.csv')\n",
        "data_labeling.head()"
      ]
    },
    {
      "cell_type": "code",
      "execution_count": 4,
      "metadata": {
        "id": "Nvukbubw8EOA",
        "colab": {
          "base_uri": "https://localhost:8080/"
        },
        "outputId": "e1f7418d-1241-48eb-d85a-964b672eba44"
      },
      "outputs": [
        {
          "output_type": "stream",
          "name": "stdout",
          "text": [
            "<class 'pandas.core.frame.DataFrame'>\n",
            "RangeIndex: 948 entries, 0 to 947\n",
            "Data columns (total 10 columns):\n",
            " #   Column          Non-Null Count  Dtype \n",
            "---  ------          --------------  ----- \n",
            " 0   full_text       948 non-null    object\n",
            " 1   case_folding    948 non-null    object\n",
            " 2   clean_review    948 non-null    object\n",
            " 3   normalization   948 non-null    object\n",
            " 4   token           948 non-null    object\n",
            " 5   stop_review     948 non-null    object\n",
            " 6   stem_review     948 non-null    object\n",
            " 7   prepos_text     948 non-null    object\n",
            " 8   polarity_score  948 non-null    int64 \n",
            " 9   polarity        948 non-null    int64 \n",
            "dtypes: int64(2), object(8)\n",
            "memory usage: 74.2+ KB\n"
          ]
        }
      ],
      "source": [
        "data_labeling.info()"
      ]
    },
    {
      "cell_type": "markdown",
      "metadata": {
        "id": "Udjm0DHg3DuR"
      },
      "source": [
        "## Splitting Data"
      ]
    },
    {
      "cell_type": "code",
      "source": [
        "X = data_labeling['stem_review']\n",
        "y = data_labeling['polarity']"
      ],
      "metadata": {
        "id": "P1hNGDcNkrmv"
      },
      "execution_count": 5,
      "outputs": []
    },
    {
      "cell_type": "code",
      "source": [
        "random_seed = 42\n",
        "np.random.seed(random_seed)\n",
        "random.seed(random_seed)\n",
        "\n",
        "X_train, X_test, y_train, y_test = train_test_split(X, y, test_size=0.2, random_state=random_seed)"
      ],
      "metadata": {
        "id": "wN-XVTHGVebT"
      },
      "execution_count": 6,
      "outputs": []
    },
    {
      "cell_type": "code",
      "source": [
        "print(f\"Jumlah data latih (X_train): {X_train.shape[0]}\")\n",
        "print(f\"Jumlah data uji (X_test): {X_test.shape[0]}\")\n",
        "print(f\"Jumlah label latih (y_train): {len(y_train)}\")\n",
        "print(f\"Jumlah label uji (y_test): {len(y_test)}\")"
      ],
      "metadata": {
        "id": "NuNwrHyoq40p",
        "colab": {
          "base_uri": "https://localhost:8080/"
        },
        "outputId": "944b199c-4adc-48a5-9f62-509b2e559f7f"
      },
      "execution_count": 7,
      "outputs": [
        {
          "output_type": "stream",
          "name": "stdout",
          "text": [
            "Jumlah data latih (X_train): 758\n",
            "Jumlah data uji (X_test): 190\n",
            "Jumlah label latih (y_train): 758\n",
            "Jumlah label uji (y_test): 190\n"
          ]
        }
      ]
    },
    {
      "cell_type": "markdown",
      "metadata": {
        "id": "hl7QLVmt65Ay"
      },
      "source": [
        "## TF-IDF"
      ]
    },
    {
      "cell_type": "code",
      "execution_count": 8,
      "metadata": {
        "id": "eAU_BpXCydQO"
      },
      "outputs": [],
      "source": [
        "vectorizer = TfidfVectorizer()\n",
        "X_train_tfidf = vectorizer.fit_transform(X_train)\n",
        "X_test_tfidf = vectorizer.transform(X_test)"
      ]
    },
    {
      "cell_type": "code",
      "execution_count": 9,
      "metadata": {
        "id": "FbMbJuDU5p5y",
        "colab": {
          "base_uri": "https://localhost:8080/",
          "height": 363
        },
        "outputId": "cd6c2eba-4cfc-4a8f-fa24-27bb8b134e78"
      },
      "outputs": [
        {
          "output_type": "execute_result",
          "data": {
            "text/plain": [
              "           Kata  Skor TF-IDF\n",
              "1948   skincare    58.376816\n",
              "292        bpom    51.129371\n",
              "1646     produk    39.885931\n",
              "165      bahaya    32.503492\n",
              "1196      mafia    32.088726\n",
              "1482  overclaim    29.405950\n",
              "824      ilegal    22.653969\n",
              "1171      lokal    21.333236\n",
              "1073   kosmetik    21.298437\n",
              "2227       usut    19.862195"
            ],
            "text/html": [
              "\n",
              "  <div id=\"df-a1b0414c-cdc0-46e3-a61c-b7c7f09ee4f0\" class=\"colab-df-container\">\n",
              "    <div>\n",
              "<style scoped>\n",
              "    .dataframe tbody tr th:only-of-type {\n",
              "        vertical-align: middle;\n",
              "    }\n",
              "\n",
              "    .dataframe tbody tr th {\n",
              "        vertical-align: top;\n",
              "    }\n",
              "\n",
              "    .dataframe thead th {\n",
              "        text-align: right;\n",
              "    }\n",
              "</style>\n",
              "<table border=\"1\" class=\"dataframe\">\n",
              "  <thead>\n",
              "    <tr style=\"text-align: right;\">\n",
              "      <th></th>\n",
              "      <th>Kata</th>\n",
              "      <th>Skor TF-IDF</th>\n",
              "    </tr>\n",
              "  </thead>\n",
              "  <tbody>\n",
              "    <tr>\n",
              "      <th>1948</th>\n",
              "      <td>skincare</td>\n",
              "      <td>58.376816</td>\n",
              "    </tr>\n",
              "    <tr>\n",
              "      <th>292</th>\n",
              "      <td>bpom</td>\n",
              "      <td>51.129371</td>\n",
              "    </tr>\n",
              "    <tr>\n",
              "      <th>1646</th>\n",
              "      <td>produk</td>\n",
              "      <td>39.885931</td>\n",
              "    </tr>\n",
              "    <tr>\n",
              "      <th>165</th>\n",
              "      <td>bahaya</td>\n",
              "      <td>32.503492</td>\n",
              "    </tr>\n",
              "    <tr>\n",
              "      <th>1196</th>\n",
              "      <td>mafia</td>\n",
              "      <td>32.088726</td>\n",
              "    </tr>\n",
              "    <tr>\n",
              "      <th>1482</th>\n",
              "      <td>overclaim</td>\n",
              "      <td>29.405950</td>\n",
              "    </tr>\n",
              "    <tr>\n",
              "      <th>824</th>\n",
              "      <td>ilegal</td>\n",
              "      <td>22.653969</td>\n",
              "    </tr>\n",
              "    <tr>\n",
              "      <th>1171</th>\n",
              "      <td>lokal</td>\n",
              "      <td>21.333236</td>\n",
              "    </tr>\n",
              "    <tr>\n",
              "      <th>1073</th>\n",
              "      <td>kosmetik</td>\n",
              "      <td>21.298437</td>\n",
              "    </tr>\n",
              "    <tr>\n",
              "      <th>2227</th>\n",
              "      <td>usut</td>\n",
              "      <td>19.862195</td>\n",
              "    </tr>\n",
              "  </tbody>\n",
              "</table>\n",
              "</div>\n",
              "    <div class=\"colab-df-buttons\">\n",
              "\n",
              "  <div class=\"colab-df-container\">\n",
              "    <button class=\"colab-df-convert\" onclick=\"convertToInteractive('df-a1b0414c-cdc0-46e3-a61c-b7c7f09ee4f0')\"\n",
              "            title=\"Convert this dataframe to an interactive table.\"\n",
              "            style=\"display:none;\">\n",
              "\n",
              "  <svg xmlns=\"http://www.w3.org/2000/svg\" height=\"24px\" viewBox=\"0 -960 960 960\">\n",
              "    <path d=\"M120-120v-720h720v720H120Zm60-500h600v-160H180v160Zm220 220h160v-160H400v160Zm0 220h160v-160H400v160ZM180-400h160v-160H180v160Zm440 0h160v-160H620v160ZM180-180h160v-160H180v160Zm440 0h160v-160H620v160Z\"/>\n",
              "  </svg>\n",
              "    </button>\n",
              "\n",
              "  <style>\n",
              "    .colab-df-container {\n",
              "      display:flex;\n",
              "      gap: 12px;\n",
              "    }\n",
              "\n",
              "    .colab-df-convert {\n",
              "      background-color: #E8F0FE;\n",
              "      border: none;\n",
              "      border-radius: 50%;\n",
              "      cursor: pointer;\n",
              "      display: none;\n",
              "      fill: #1967D2;\n",
              "      height: 32px;\n",
              "      padding: 0 0 0 0;\n",
              "      width: 32px;\n",
              "    }\n",
              "\n",
              "    .colab-df-convert:hover {\n",
              "      background-color: #E2EBFA;\n",
              "      box-shadow: 0px 1px 2px rgba(60, 64, 67, 0.3), 0px 1px 3px 1px rgba(60, 64, 67, 0.15);\n",
              "      fill: #174EA6;\n",
              "    }\n",
              "\n",
              "    .colab-df-buttons div {\n",
              "      margin-bottom: 4px;\n",
              "    }\n",
              "\n",
              "    [theme=dark] .colab-df-convert {\n",
              "      background-color: #3B4455;\n",
              "      fill: #D2E3FC;\n",
              "    }\n",
              "\n",
              "    [theme=dark] .colab-df-convert:hover {\n",
              "      background-color: #434B5C;\n",
              "      box-shadow: 0px 1px 3px 1px rgba(0, 0, 0, 0.15);\n",
              "      filter: drop-shadow(0px 1px 2px rgba(0, 0, 0, 0.3));\n",
              "      fill: #FFFFFF;\n",
              "    }\n",
              "  </style>\n",
              "\n",
              "    <script>\n",
              "      const buttonEl =\n",
              "        document.querySelector('#df-a1b0414c-cdc0-46e3-a61c-b7c7f09ee4f0 button.colab-df-convert');\n",
              "      buttonEl.style.display =\n",
              "        google.colab.kernel.accessAllowed ? 'block' : 'none';\n",
              "\n",
              "      async function convertToInteractive(key) {\n",
              "        const element = document.querySelector('#df-a1b0414c-cdc0-46e3-a61c-b7c7f09ee4f0');\n",
              "        const dataTable =\n",
              "          await google.colab.kernel.invokeFunction('convertToInteractive',\n",
              "                                                    [key], {});\n",
              "        if (!dataTable) return;\n",
              "\n",
              "        const docLinkHtml = 'Like what you see? Visit the ' +\n",
              "          '<a target=\"_blank\" href=https://colab.research.google.com/notebooks/data_table.ipynb>data table notebook</a>'\n",
              "          + ' to learn more about interactive tables.';\n",
              "        element.innerHTML = '';\n",
              "        dataTable['output_type'] = 'display_data';\n",
              "        await google.colab.output.renderOutput(dataTable, element);\n",
              "        const docLink = document.createElement('div');\n",
              "        docLink.innerHTML = docLinkHtml;\n",
              "        element.appendChild(docLink);\n",
              "      }\n",
              "    </script>\n",
              "  </div>\n",
              "\n",
              "\n",
              "    <div id=\"df-61b7d024-3330-42b7-8bb8-d18dabe85c08\">\n",
              "      <button class=\"colab-df-quickchart\" onclick=\"quickchart('df-61b7d024-3330-42b7-8bb8-d18dabe85c08')\"\n",
              "                title=\"Suggest charts\"\n",
              "                style=\"display:none;\">\n",
              "\n",
              "<svg xmlns=\"http://www.w3.org/2000/svg\" height=\"24px\"viewBox=\"0 0 24 24\"\n",
              "     width=\"24px\">\n",
              "    <g>\n",
              "        <path d=\"M19 3H5c-1.1 0-2 .9-2 2v14c0 1.1.9 2 2 2h14c1.1 0 2-.9 2-2V5c0-1.1-.9-2-2-2zM9 17H7v-7h2v7zm4 0h-2V7h2v10zm4 0h-2v-4h2v4z\"/>\n",
              "    </g>\n",
              "</svg>\n",
              "      </button>\n",
              "\n",
              "<style>\n",
              "  .colab-df-quickchart {\n",
              "      --bg-color: #E8F0FE;\n",
              "      --fill-color: #1967D2;\n",
              "      --hover-bg-color: #E2EBFA;\n",
              "      --hover-fill-color: #174EA6;\n",
              "      --disabled-fill-color: #AAA;\n",
              "      --disabled-bg-color: #DDD;\n",
              "  }\n",
              "\n",
              "  [theme=dark] .colab-df-quickchart {\n",
              "      --bg-color: #3B4455;\n",
              "      --fill-color: #D2E3FC;\n",
              "      --hover-bg-color: #434B5C;\n",
              "      --hover-fill-color: #FFFFFF;\n",
              "      --disabled-bg-color: #3B4455;\n",
              "      --disabled-fill-color: #666;\n",
              "  }\n",
              "\n",
              "  .colab-df-quickchart {\n",
              "    background-color: var(--bg-color);\n",
              "    border: none;\n",
              "    border-radius: 50%;\n",
              "    cursor: pointer;\n",
              "    display: none;\n",
              "    fill: var(--fill-color);\n",
              "    height: 32px;\n",
              "    padding: 0;\n",
              "    width: 32px;\n",
              "  }\n",
              "\n",
              "  .colab-df-quickchart:hover {\n",
              "    background-color: var(--hover-bg-color);\n",
              "    box-shadow: 0 1px 2px rgba(60, 64, 67, 0.3), 0 1px 3px 1px rgba(60, 64, 67, 0.15);\n",
              "    fill: var(--button-hover-fill-color);\n",
              "  }\n",
              "\n",
              "  .colab-df-quickchart-complete:disabled,\n",
              "  .colab-df-quickchart-complete:disabled:hover {\n",
              "    background-color: var(--disabled-bg-color);\n",
              "    fill: var(--disabled-fill-color);\n",
              "    box-shadow: none;\n",
              "  }\n",
              "\n",
              "  .colab-df-spinner {\n",
              "    border: 2px solid var(--fill-color);\n",
              "    border-color: transparent;\n",
              "    border-bottom-color: var(--fill-color);\n",
              "    animation:\n",
              "      spin 1s steps(1) infinite;\n",
              "  }\n",
              "\n",
              "  @keyframes spin {\n",
              "    0% {\n",
              "      border-color: transparent;\n",
              "      border-bottom-color: var(--fill-color);\n",
              "      border-left-color: var(--fill-color);\n",
              "    }\n",
              "    20% {\n",
              "      border-color: transparent;\n",
              "      border-left-color: var(--fill-color);\n",
              "      border-top-color: var(--fill-color);\n",
              "    }\n",
              "    30% {\n",
              "      border-color: transparent;\n",
              "      border-left-color: var(--fill-color);\n",
              "      border-top-color: var(--fill-color);\n",
              "      border-right-color: var(--fill-color);\n",
              "    }\n",
              "    40% {\n",
              "      border-color: transparent;\n",
              "      border-right-color: var(--fill-color);\n",
              "      border-top-color: var(--fill-color);\n",
              "    }\n",
              "    60% {\n",
              "      border-color: transparent;\n",
              "      border-right-color: var(--fill-color);\n",
              "    }\n",
              "    80% {\n",
              "      border-color: transparent;\n",
              "      border-right-color: var(--fill-color);\n",
              "      border-bottom-color: var(--fill-color);\n",
              "    }\n",
              "    90% {\n",
              "      border-color: transparent;\n",
              "      border-bottom-color: var(--fill-color);\n",
              "    }\n",
              "  }\n",
              "</style>\n",
              "\n",
              "      <script>\n",
              "        async function quickchart(key) {\n",
              "          const quickchartButtonEl =\n",
              "            document.querySelector('#' + key + ' button');\n",
              "          quickchartButtonEl.disabled = true;  // To prevent multiple clicks.\n",
              "          quickchartButtonEl.classList.add('colab-df-spinner');\n",
              "          try {\n",
              "            const charts = await google.colab.kernel.invokeFunction(\n",
              "                'suggestCharts', [key], {});\n",
              "          } catch (error) {\n",
              "            console.error('Error during call to suggestCharts:', error);\n",
              "          }\n",
              "          quickchartButtonEl.classList.remove('colab-df-spinner');\n",
              "          quickchartButtonEl.classList.add('colab-df-quickchart-complete');\n",
              "        }\n",
              "        (() => {\n",
              "          let quickchartButtonEl =\n",
              "            document.querySelector('#df-61b7d024-3330-42b7-8bb8-d18dabe85c08 button');\n",
              "          quickchartButtonEl.style.display =\n",
              "            google.colab.kernel.accessAllowed ? 'block' : 'none';\n",
              "        })();\n",
              "      </script>\n",
              "    </div>\n",
              "\n",
              "    </div>\n",
              "  </div>\n"
            ],
            "application/vnd.google.colaboratory.intrinsic+json": {
              "type": "dataframe",
              "variable_name": "tfidf_sum",
              "summary": "{\n  \"name\": \"tfidf_sum\",\n  \"rows\": 2305,\n  \"fields\": [\n    {\n      \"column\": \"Kata\",\n      \"properties\": {\n        \"dtype\": \"string\",\n        \"num_unique_values\": 2305,\n        \"samples\": [\n          \"hahaha\",\n          \"anti\",\n          \"hpp\"\n        ],\n        \"semantic_type\": \"\",\n        \"description\": \"\"\n      }\n    },\n    {\n      \"column\": \"Skor TF-IDF\",\n      \"properties\": {\n        \"dtype\": \"number\",\n        \"std\": 2.7781628715713524,\n        \"min\": 0.11752858789876479,\n        \"max\": 58.37681623404393,\n        \"num_unique_values\": 1420,\n        \"samples\": [\n          6.833506189150444,\n          1.7057010043289473,\n          0.7691645911637881\n        ],\n        \"semantic_type\": \"\",\n        \"description\": \"\"\n      }\n    }\n  ]\n}"
            }
          },
          "metadata": {},
          "execution_count": 9
        }
      ],
      "source": [
        "tfidf_array = X_train_tfidf.toarray()\n",
        "feature_names = vectorizer.get_feature_names_out()\n",
        "\n",
        "tfidf_df = pd.DataFrame(tfidf_array, columns=feature_names)\n",
        "\n",
        "tfidf_sum = tfidf_df.sum(axis=0).reset_index()\n",
        "tfidf_sum.columns = ['Kata', 'Skor TF-IDF']\n",
        "\n",
        "tfidf_sum = tfidf_sum.sort_values(by='Skor TF-IDF', ascending=False)\n",
        "\n",
        "tfidf_sum.head(10)"
      ]
    },
    {
      "cell_type": "markdown",
      "metadata": {
        "id": "5AfkWa4c8X8c"
      },
      "source": [
        "## ADASYN Oversampling"
      ]
    },
    {
      "cell_type": "code",
      "execution_count": 10,
      "metadata": {
        "id": "67AAV5vAzoyJ"
      },
      "outputs": [],
      "source": [
        "adasyn = ADASYN(random_state=random_seed)\n",
        "X_train_adasyn, y_train_adasyn = adasyn.fit_resample(X_train_tfidf, y_train)"
      ]
    },
    {
      "cell_type": "code",
      "source": [
        "print(\"Sebelum ADASYN:\", Counter(y_train))\n",
        "print(\"Setelah ADASYN:\", Counter(y_train_adasyn))"
      ],
      "metadata": {
        "colab": {
          "base_uri": "https://localhost:8080/"
        },
        "id": "buLyZ7aF1BV0",
        "outputId": "b895dd03-0579-47e9-b7e2-43e6c655a4b4"
      },
      "execution_count": 11,
      "outputs": [
        {
          "output_type": "stream",
          "name": "stdout",
          "text": [
            "Sebelum ADASYN: Counter({-1: 527, 1: 231})\n",
            "Setelah ADASYN: Counter({-1: 527, 1: 468})\n"
          ]
        }
      ]
    },
    {
      "cell_type": "code",
      "source": [
        "palette = sns.color_palette(\"plasma\")\n",
        "fig, axs = plt.subplots(1, 2, figsize=(12, 6))\n",
        "\n",
        "# sebelum ADASYN\n",
        "plot1 = sns.countplot(x=y_train, ax=axs[0], palette=palette)\n",
        "axs[0].set_title(\"Distribusi Kelas Sebelum ADASYN\", pad=15, fontsize=16)\n",
        "axs[0].set_xlabel(\"Kelas\", labelpad=10, fontsize=14)\n",
        "axs[0].set_ylabel(\"\")\n",
        "axs[0].set_xticklabels([\"Negatif\", \"Positif\"], fontsize=14)\n",
        "axs[0].set_yticks([])\n",
        "axs[0].tick_params(axis='both', length=0, pad=10)\n",
        "\n",
        "for container in plot1.containers:\n",
        "    axs[0].bar_label(container, label_type='edge', padding=-25, color=\"white\", fontsize=15)\n",
        "\n",
        "# setelah ADASYN\n",
        "plot2 = sns.countplot(x=y_train_adasyn, ax=axs[1], palette=palette)\n",
        "axs[1].set_title(\"Distribusi Kelas Setelah ADASYN\", pad=15, fontsize=16)\n",
        "axs[1].set_xlabel(\"Kelas\", labelpad=10, fontsize=14)\n",
        "axs[1].set_ylabel(\"\")\n",
        "axs[1].set_xticklabels([\"Negatif\", \"Positif\"], fontsize=14)\n",
        "axs[1].set_yticks([])\n",
        "axs[1].tick_params(axis='both', length=0, pad=10)\n",
        "\n",
        "for container in plot2.containers:\n",
        "    axs[1].bar_label(container, label_type='edge', padding=-25, color=\"white\", fontsize=15)\n",
        "\n",
        "plt.tight_layout()\n",
        "plt.show()"
      ],
      "metadata": {
        "id": "txvjVnO7t4IW",
        "colab": {
          "base_uri": "https://localhost:8080/",
          "height": 933
        },
        "outputId": "0776847b-cec6-43bf-ecbd-741d0257471f"
      },
      "execution_count": 12,
      "outputs": [
        {
          "output_type": "stream",
          "name": "stderr",
          "text": [
            "/tmp/ipython-input-12-4025879135.py:5: FutureWarning: \n",
            "\n",
            "Passing `palette` without assigning `hue` is deprecated and will be removed in v0.14.0. Assign the `x` variable to `hue` and set `legend=False` for the same effect.\n",
            "\n",
            "  plot1 = sns.countplot(x=y_train, ax=axs[0], palette=palette)\n",
            "/tmp/ipython-input-12-4025879135.py:5: UserWarning: The palette list has more values (6) than needed (2), which may not be intended.\n",
            "  plot1 = sns.countplot(x=y_train, ax=axs[0], palette=palette)\n",
            "/tmp/ipython-input-12-4025879135.py:9: UserWarning: set_ticklabels() should only be used with a fixed number of ticks, i.e. after set_ticks() or using a FixedLocator.\n",
            "  axs[0].set_xticklabels([\"Negatif\", \"Positif\"], fontsize=14)\n",
            "/tmp/ipython-input-12-4025879135.py:17: FutureWarning: \n",
            "\n",
            "Passing `palette` without assigning `hue` is deprecated and will be removed in v0.14.0. Assign the `x` variable to `hue` and set `legend=False` for the same effect.\n",
            "\n",
            "  plot2 = sns.countplot(x=y_train_adasyn, ax=axs[1], palette=palette)\n",
            "/tmp/ipython-input-12-4025879135.py:17: UserWarning: The palette list has more values (6) than needed (2), which may not be intended.\n",
            "  plot2 = sns.countplot(x=y_train_adasyn, ax=axs[1], palette=palette)\n",
            "/tmp/ipython-input-12-4025879135.py:21: UserWarning: set_ticklabels() should only be used with a fixed number of ticks, i.e. after set_ticks() or using a FixedLocator.\n",
            "  axs[1].set_xticklabels([\"Negatif\", \"Positif\"], fontsize=14)\n"
          ]
        },
        {
          "output_type": "display_data",
          "data": {
            "text/plain": [
              "<Figure size 1200x600 with 2 Axes>"
            ],
            "image/png": "[encoded data removed]"
          },
          "metadata": {}
        }
      ]
    },
    {
      "cell_type": "markdown",
      "metadata": {
        "id": "Ill2BkR1zq5l"
      },
      "source": [
        "## Optimasi PSO"
      ]
    },
    {
      "cell_type": "markdown",
      "source": [
        "### Tanpa ADASYN"
      ],
      "metadata": {
        "id": "a0Aqy-rhz9D-"
      }
    },
    {
      "cell_type": "code",
      "source": [
        "def fitness_function(params, X_train, y_train, X_test, y_test, kernel):\n",
        "    # mengatur parameter berdasarkan kernel\n",
        "    if kernel == 'linear':\n",
        "        C = params[0]\n",
        "        model = SVC(C=C, kernel=kernel, random_state=random_seed)\n",
        "\n",
        "    elif kernel == 'rbf':\n",
        "        C = params[0]\n",
        "        gamma = params[1]\n",
        "        model = SVC(C=C, gamma=gamma, kernel=kernel, random_state=random_seed)\n",
        "\n",
        "    elif kernel == 'sigmoid':\n",
        "        C = params[0]\n",
        "        gamma = params[1]\n",
        "        coef0 = params[2]\n",
        "        model = SVC(C=C, gamma=gamma, coef0=coef0, kernel=kernel, random_state=random_seed)\n",
        "\n",
        "    elif kernel == 'poly':\n",
        "        C = params[0]\n",
        "        gamma = params[1]\n",
        "        coef0 = params[2]\n",
        "        degree = int(params[3])  # memastikan tipe integer\n",
        "        model = SVC(C=C, gamma=gamma, coef0=coef0, degree=degree, kernel=kernel, random_state=random_seed)\n",
        "\n",
        "    model.fit(X_train, y_train)\n",
        "    y_pred = model.predict(X_test)\n",
        "    accuracy = accuracy_score(y_test, y_pred)\n",
        "    return accuracy\n",
        "\n",
        "# kelas partikel PSO\n",
        "class Particle:\n",
        "    def __init__(self, bounds):\n",
        "        self.position = np.array([np.random.uniform(bound[0], bound[1]) for bound in bounds])\n",
        "        self.velocity = np.random.uniform(-1, 1, len(bounds))\n",
        "        self.best_position = self.position.copy()\n",
        "        self.best_score = -1\n",
        "\n",
        "# fungsi optimasi PSO dengan persamaan pembaruan kecepatan\n",
        "def pso_optimize(fitness_function, bounds, num_particles, X_train, y_train, X_test, y_test, kernel, num_iterations=10):\n",
        "    # parameter untuk pembaruan kecepatan\n",
        "    w = 0.5  # berat inersia\n",
        "    c1 = 2.0  # koefisien pembelajaran kognitif\n",
        "    c2 = 2.0  # koefisien pembelajaran sosial\n",
        "\n",
        "    particles = [Particle(bounds) for _ in range(num_particles)]\n",
        "    global_best_position = particles[0].position.copy()\n",
        "    global_best_score = -1\n",
        "\n",
        "    print(f\"--- Kernel {kernel.capitalize()} ---\")\n",
        "\n",
        "    for iteration in range(num_iterations):\n",
        "        iteration_best_score = -1\n",
        "        iteration_best_position = None\n",
        "\n",
        "        for particle in particles:\n",
        "            # evaluasi fitness dari posisi partikel\n",
        "            fitness = fitness_function(particle.position, X_train, y_train, X_test, y_test, kernel)\n",
        "\n",
        "            # perbarui personal best jika diperlukan\n",
        "            if fitness > particle.best_score:\n",
        "                particle.best_score = fitness\n",
        "                particle.best_position = particle.position.copy()\n",
        "\n",
        "            # perbarui global best jika diperlukan\n",
        "            if fitness > global_best_score:\n",
        "                global_best_score = fitness\n",
        "                global_best_position = particle.position.copy()\n",
        "\n",
        "            # lacak fitness terbaik dalam iterasi ini\n",
        "            if fitness > iteration_best_score:\n",
        "                iteration_best_score = fitness\n",
        "                iteration_best_position = particle.position.copy()\n",
        "\n",
        "            # bilangan acak r1 dan r2\n",
        "            r1 = np.random.uniform(0, 1, len(bounds))\n",
        "            r2 = np.random.uniform(0, 1, len(bounds))\n",
        "\n",
        "            # perbarui kecepatan menggunakan persamaan PSO\n",
        "            particle.velocity = (\n",
        "                w * particle.velocity\n",
        "                + c1 * r1 * (particle.best_position - particle.position)\n",
        "                + c2 * r2 * (global_best_position - particle.position)\n",
        "            )\n",
        "\n",
        "            # perbarui posisi partikel dengan menambahkan kecepatan\n",
        "            particle.position += particle.velocity\n",
        "\n",
        "            # pastikan posisi tetap berada dalam batas\n",
        "            for i in range(len(bounds)):\n",
        "                if particle.position[i] < bounds[i][0]:\n",
        "                    particle.position[i] = bounds[i][0]\n",
        "                if particle.position[i] > bounds[i][1]:\n",
        "                    particle.position[i] = bounds[i][1]\n",
        "\n",
        "        # cetak fitness terbaik dan parameter dari iterasi ini\n",
        "        params_str = ', '.join([f\"{param:.6f}\" for param in iteration_best_position])\n",
        "        print(f\"Iteration {iteration + 1} (params: {params_str}) - Accuracy: {iteration_best_score:.6f}\")\n",
        "\n",
        "    return global_best_position, global_best_score\n",
        "\n",
        "\n",
        "# kernel dan batas parameter\n",
        "kernels = ['linear', 'rbf', 'sigmoid', 'poly']\n",
        "bounds = {\n",
        "    'linear': [(0.1, 100)],\n",
        "    'rbf': [(0.1, 100), (0.000001, 1)],\n",
        "    'sigmoid': [(0.1, 100), (0.000001, 1), (-1,1)],\n",
        "    'poly': [(0.1, 100), (0.000001, 1), (-1,1), (2, 5)]\n",
        "}\n",
        "\n",
        "# lakukan iterasi melalui setiap kernel\n",
        "for kernel in kernels:\n",
        "    bounds_for_kernel = bounds[kernel]\n",
        "\n",
        "    # optimasi PSO tanpa iterasi, hanya satu evaluasi untuk 10 partikel\n",
        "    best_params, best_score = pso_optimize(fitness_function, bounds_for_kernel, num_particles=10,\n",
        "                                           X_train=X_train_tfidf, y_train=y_train,\n",
        "                                           X_test=X_test_tfidf, y_test=y_test,\n",
        "                                           kernel=kernel)\n",
        "\n",
        "    print(f\"\\nOptimal parameters for {kernel} kernel: {best_params}\")\n",
        "\n",
        "    # latih SVM dengan parameter optimal\n",
        "    if kernel == 'poly':\n",
        "        optimal_svm_clf = SVC(C=best_params[0], gamma=best_params[1], coef0=best_params[2],\n",
        "                            degree=int(best_params[3]), kernel=kernel, random_state=random_seed)\n",
        "    elif kernel == 'sigmoid':\n",
        "        optimal_svm_clf = SVC(C=best_params[0], gamma=best_params[1], coef0=best_params[2],\n",
        "                            kernel=kernel, random_state=random_seed)\n",
        "    elif kernel == 'rbf':\n",
        "        optimal_svm_clf = SVC(C=best_params[0], gamma=best_params[1],\n",
        "                            kernel=kernel, random_state=random_seed)\n",
        "    elif kernel == 'linear':\n",
        "        optimal_svm_clf = SVC(C=best_params[0], kernel=kernel, random_state=random_seed)\n",
        "\n",
        "    # fit model dan lakukan prediksi\n",
        "    optimal_svm_clf.fit(X_train_tfidf, y_train)\n",
        "    optimal_y_pred = optimal_svm_clf.predict(X_test_tfidf)\n",
        "\n",
        "    # menghitung akurasi\n",
        "    accuracy_pso = accuracy_score(y_test, optimal_y_pred)\n",
        "    print(f\"SVM PSO Final Accuracy for {kernel} kernel: {accuracy_pso}\")\n",
        "\n",
        "    print(\"\\n\" + \"=\"*60 + \"\\n\")"
      ],
      "metadata": {
        "colab": {
          "base_uri": "https://localhost:8080/"
        },
        "id": "3I8fvzs5V2ag",
        "outputId": "725aaf72-4273-4a9e-d7e4-3f6f6de29c26"
      },
      "execution_count": 13,
      "outputs": [
        {
          "output_type": "stream",
          "name": "stdout",
          "text": [
            "--- Kernel Linear ---\n",
            "Iteration 1 (params: 37.516558) - Accuracy: 0.847368\n",
            "Iteration 2 (params: 37.967272) - Accuracy: 0.847368\n",
            "Iteration 3 (params: 37.636254) - Accuracy: 0.847368\n",
            "Iteration 4 (params: 37.312740) - Accuracy: 0.847368\n",
            "Iteration 5 (params: 37.756894) - Accuracy: 0.847368\n",
            "Iteration 6 (params: 37.657959) - Accuracy: 0.847368\n",
            "Iteration 7 (params: 37.126729) - Accuracy: 0.847368\n",
            "Iteration 8 (params: 37.807798) - Accuracy: 0.847368\n",
            "Iteration 9 (params: 37.565801) - Accuracy: 0.847368\n",
            "Iteration 10 (params: 37.400037) - Accuracy: 0.847368\n",
            "\n",
            "Optimal parameters for linear kernel: [37.51655787]\n",
            "SVM PSO Final Accuracy for linear kernel: 0.8473684210526315\n",
            "\n",
            "============================================================\n",
            "\n",
            "--- Kernel Rbf ---\n",
            "Iteration 1 (params: 57.732698, 0.492518) - Accuracy: 0.852632\n",
            "Iteration 2 (params: 65.389203, 0.436025) - Accuracy: 0.857895\n",
            "Iteration 3 (params: 80.892375, 0.769887) - Accuracy: 0.857895\n",
            "Iteration 4 (params: 73.537317, 0.421829) - Accuracy: 0.857895\n",
            "Iteration 5 (params: 65.490584, 0.434790) - Accuracy: 0.857895\n",
            "Iteration 6 (params: 65.379585, 0.426938) - Accuracy: 0.857895\n",
            "Iteration 7 (params: 100.000000, 1.000000) - Accuracy: 0.857895\n",
            "Iteration 8 (params: 65.419011, 0.429305) - Accuracy: 0.857895\n",
            "Iteration 9 (params: 65.387660, 0.438425) - Accuracy: 0.857895\n",
            "Iteration 10 (params: 65.374921, 0.436702) - Accuracy: 0.857895\n",
            "\n",
            "Optimal parameters for rbf kernel: [65.38920271  0.43602484]\n",
            "SVM PSO Final Accuracy for rbf kernel: 0.8578947368421053\n",
            "\n",
            "============================================================\n",
            "\n",
            "--- Kernel Sigmoid ---\n",
            "Iteration 1 (params: 24.671177, 0.160682, -0.626866) - Accuracy: 0.847368\n",
            "Iteration 2 (params: 22.191729, 0.486252, -1.000000) - Accuracy: 0.847368\n",
            "Iteration 3 (params: 83.590127, 1.000000, 0.343824) - Accuracy: 0.847368\n",
            "Iteration 4 (params: 18.155316, 0.505246, -0.915872) - Accuracy: 0.847368\n",
            "Iteration 5 (params: 25.706465, 0.627408, -1.000000) - Accuracy: 0.857895\n",
            "Iteration 6 (params: 26.276218, 0.928639, -1.000000) - Accuracy: 0.857895\n",
            "Iteration 7 (params: 19.320733, 0.965770, -1.000000) - Accuracy: 0.857895\n",
            "Iteration 8 (params: 27.830634, 0.634235, -1.000000) - Accuracy: 0.857895\n",
            "Iteration 9 (params: 15.646256, 0.695444, -1.000000) - Accuracy: 0.857895\n",
            "Iteration 10 (params: 21.637680, 0.672851, -1.000000) - Accuracy: 0.857895\n",
            "\n",
            "Optimal parameters for sigmoid kernel: [25.70646532  0.6274084  -1.        ]\n",
            "SVM PSO Final Accuracy for sigmoid kernel: 0.8578947368421053\n",
            "\n",
            "============================================================\n",
            "\n",
            "--- Kernel Poly ---\n",
            "Iteration 1 (params: 24.785613, 0.159546, 0.743567, 2.657642) - Accuracy: 0.852632\n",
            "Iteration 2 (params: 43.449535, 0.955865, 1.000000, 2.000000) - Accuracy: 0.852632\n",
            "Iteration 3 (params: 20.974921, 0.449582, 0.883290, 3.312480) - Accuracy: 0.857895\n",
            "Iteration 4 (params: 23.612451, 0.714955, 0.409081, 2.440662) - Accuracy: 0.857895\n",
            "Iteration 5 (params: 18.366000, 0.534381, 1.000000, 3.621558) - Accuracy: 0.857895\n",
            "Iteration 6 (params: 19.550105, 0.584613, 0.894456, 3.161999) - Accuracy: 0.852632\n",
            "Iteration 7 (params: 17.808373, 0.986054, 0.985277, 2.666796) - Accuracy: 0.852632\n",
            "Iteration 8 (params: 16.545363, 0.462159, 0.845748, 3.194947) - Accuracy: 0.857895\n",
            "Iteration 9 (params: 18.816273, 0.516191, 0.762277, 3.186572) - Accuracy: 0.852632\n",
            "Iteration 10 (params: 22.852718, 0.488545, 0.852631, 3.200309) - Accuracy: 0.857895\n",
            "\n",
            "Optimal parameters for poly kernel: [20.97492119  0.44958185  0.88328979  3.31248047]\n",
            "SVM PSO Final Accuracy for poly kernel: 0.8578947368421053\n",
            "\n",
            "============================================================\n",
            "\n"
          ]
        }
      ]
    },
    {
      "cell_type": "markdown",
      "source": [
        "### Setelah ADASYN"
      ],
      "metadata": {
        "id": "cyV7Ej_V0G_R"
      }
    },
    {
      "cell_type": "code",
      "source": [
        "def fitness_function_ada(params, X_train, y_train, X_test, y_test, kernel):\n",
        "    # mengatur parameter berdasarkan kernel\n",
        "    if kernel == 'linear':\n",
        "        C = params[0]\n",
        "        model = SVC(C=C, kernel=kernel, random_state=random_seed)\n",
        "\n",
        "    elif kernel == 'rbf':\n",
        "        C = params[0]\n",
        "        gamma = params[1]\n",
        "        model = SVC(C=C, gamma=gamma, kernel=kernel, random_state=random_seed)\n",
        "\n",
        "    elif kernel == 'sigmoid':\n",
        "        C = params[0]\n",
        "        gamma = params[1]\n",
        "        coef0 = params[2]\n",
        "        model = SVC(C=C, gamma=gamma, coef0=coef0, kernel=kernel, random_state=random_seed)\n",
        "\n",
        "    elif kernel == 'poly':\n",
        "        C = params[0]\n",
        "        gamma = params[1]\n",
        "        coef0 = params[2]\n",
        "        degree = int(params[3])  # memastikan tipe integer\n",
        "        model = SVC(C=C, gamma=gamma, coef0=coef0, degree=degree, kernel=kernel, random_state=random_seed)\n",
        "\n",
        "    model.fit(X_train, y_train)\n",
        "    y_pred = model.predict(X_test)\n",
        "    accuracy = accuracy_score(y_test, y_pred)\n",
        "    return accuracy\n",
        "\n",
        "# kelas partikel PSO\n",
        "class Particle:\n",
        "    def __init__(self, bounds):\n",
        "        self.position = np.array([np.random.uniform(bound[0], bound[1]) for bound in bounds])\n",
        "        self.velocity = np.random.uniform(-1, 1, len(bounds))\n",
        "        self.best_position = self.position.copy()\n",
        "        self.best_score = -1\n",
        "\n",
        "# fungsi optimasi PSO dengan persamaan pembaruan kecepatan\n",
        "def pso_optimize_ada(fitness_function, bounds, num_particles, X_train, y_train, X_test, y_test, kernel, num_iterations=10):\n",
        "    # parameter untuk pembaruan kecepatan\n",
        "    w = 0.5  # berat inersia\n",
        "    c1 = 2.0  # koefisien pembelajaran kognitif\n",
        "    c2 = 2.0  # koefisien pembelajaran sosial\n",
        "\n",
        "    particles = [Particle(bounds) for _ in range(num_particles)]\n",
        "    global_best_position = particles[0].position.copy()\n",
        "    global_best_score = -1\n",
        "\n",
        "    print(f\"--- Kernel {kernel.capitalize()} ---\")\n",
        "\n",
        "    for iteration in range(num_iterations):\n",
        "        iteration_best_score = -1\n",
        "        iteration_best_position = None\n",
        "\n",
        "        for particle in particles:\n",
        "            # evaluasi fitness dari posisi partikel\n",
        "            fitness = fitness_function(particle.position, X_train, y_train, X_test, y_test, kernel)\n",
        "\n",
        "            # perbarui personal best jika diperlukan\n",
        "            if fitness > particle.best_score:\n",
        "                particle.best_score = fitness\n",
        "                particle.best_position = particle.position.copy()\n",
        "\n",
        "            # perbarui global best jika diperlukan\n",
        "            if fitness > global_best_score:\n",
        "                global_best_score = fitness\n",
        "                global_best_position = particle.position.copy()\n",
        "\n",
        "            # lacak fitness terbaik dalam iterasi ini\n",
        "            if fitness > iteration_best_score:\n",
        "                iteration_best_score = fitness\n",
        "                iteration_best_position = particle.position.copy()\n",
        "\n",
        "            # bilangan acak r1 dan r2\n",
        "            r1 = np.random.uniform(0, 1, len(bounds))\n",
        "            r2 = np.random.uniform(0, 1, len(bounds))\n",
        "\n",
        "            # perbarui kecepatan menggunakan persamaan PSO\n",
        "            particle.velocity = (\n",
        "                w * particle.velocity\n",
        "                + c1 * r1 * (particle.best_position - particle.position)\n",
        "                + c2 * r2 * (global_best_position - particle.position)\n",
        "            )\n",
        "\n",
        "            # perbarui posisi partikel dengan menambahkan kecepatan\n",
        "            particle.position += particle.velocity\n",
        "\n",
        "            # pastikan posisi tetap berada dalam batas\n",
        "            for i in range(len(bounds)):\n",
        "                if particle.position[i] < bounds[i][0]:\n",
        "                    particle.position[i] = bounds[i][0]\n",
        "                if particle.position[i] > bounds[i][1]:\n",
        "                    particle.position[i] = bounds[i][1]\n",
        "\n",
        "        # cetak fitness terbaik dan parameter dari iterasi ini\n",
        "        params_str = ', '.join([f\"{param:.6f}\" for param in iteration_best_position])\n",
        "        print(f\"Iteration {iteration + 1} (params: {params_str}) - Accuracy: {iteration_best_score:.6f}\")\n",
        "\n",
        "    return global_best_position, global_best_score\n",
        "\n",
        "\n",
        "# kernel dan batas parameter\n",
        "kernels = ['linear', 'rbf', 'sigmoid', 'poly']\n",
        "bounds = {\n",
        "    'linear': [(0.1, 100)],\n",
        "    'rbf': [(0.1, 100), (0.000001, 1)],\n",
        "    'sigmoid': [(0.1, 100), (0.000001, 1), (-1,1)],\n",
        "    'poly': [(0.1, 100), (0.000001, 1), (-1,1), (2, 5)]\n",
        "}\n",
        "\n",
        "# lakukan iterasi melalui setiap kernel\n",
        "for kernel in kernels:\n",
        "    bounds_for_kernel = bounds[kernel]\n",
        "\n",
        "    # optimasi PSO tanpa iterasi, hanya satu evaluasi untuk 10 partikel\n",
        "    best_params, best_score = pso_optimize_ada(fitness_function_ada, bounds_for_kernel, num_particles=10,\n",
        "                                           X_train=X_train_adasyn, y_train=y_train_adasyn,\n",
        "                                           X_test=X_test_tfidf, y_test=y_test,\n",
        "                                           kernel=kernel)\n",
        "\n",
        "    print(f\"\\nOptimal parameters for {kernel} kernel: {best_params}\")\n",
        "\n",
        "    # latih SVM dengan parameter optimal\n",
        "    if kernel == 'poly':\n",
        "        optimal_svm_clf_ada = SVC(C=best_params[0], gamma=best_params[1], coef0=best_params[2],\n",
        "                            degree=int(best_params[3]), kernel=kernel, random_state=random_seed)\n",
        "    elif kernel == 'sigmoid':\n",
        "        optimal_svm_clf_ada = SVC(C=best_params[0], gamma=best_params[1], coef0=best_params[2],\n",
        "                            kernel=kernel, random_state=random_seed)\n",
        "    elif kernel == 'rbf':\n",
        "        optimal_svm_clf_ada = SVC(C=best_params[0], gamma=best_params[1],\n",
        "                            kernel=kernel, random_state=random_seed)\n",
        "    elif kernel == 'linear':\n",
        "        optimal_svm_clf_ada = SVC(C=best_params[0], kernel=kernel, random_state=random_seed)\n",
        "\n",
        "    # fit model dan lakukan prediksi\n",
        "    optimal_svm_clf_ada.fit(X_train_adasyn, y_train_adasyn)\n",
        "    optimal_y_pred_ada = optimal_svm_clf_ada.predict(X_test_tfidf)\n",
        "\n",
        "    # menghitung akurasi\n",
        "    accuracy_pso_ada = accuracy_score(y_test, optimal_y_pred_ada)\n",
        "    print(f\"SVM PSO Final Accuracy for {kernel} kernel: {accuracy_pso_ada}\")\n",
        "\n",
        "    print(\"\\n\" + \"=\"*60 + \"\\n\")"
      ],
      "metadata": {
        "colab": {
          "base_uri": "https://localhost:8080/"
        },
        "id": "ajt6IrWN5pnY",
        "outputId": "6b8d035f-8845-4577-ba55-7209a1ade50c"
      },
      "execution_count": 14,
      "outputs": [
        {
          "output_type": "stream",
          "name": "stdout",
          "text": [
            "--- Kernel Linear ---\n",
            "Iteration 1 (params: 97.682353) - Accuracy: 0.847368\n",
            "Iteration 2 (params: 97.293073) - Accuracy: 0.847368\n",
            "Iteration 3 (params: 97.744052) - Accuracy: 0.847368\n",
            "Iteration 4 (params: 97.799769) - Accuracy: 0.847368\n",
            "Iteration 5 (params: 97.682913) - Accuracy: 0.847368\n",
            "Iteration 6 (params: 97.622945) - Accuracy: 0.847368\n",
            "Iteration 7 (params: 97.785638) - Accuracy: 0.847368\n",
            "Iteration 8 (params: 97.697145) - Accuracy: 0.847368\n",
            "Iteration 9 (params: 97.640067) - Accuracy: 0.847368\n",
            "Iteration 10 (params: 97.753607) - Accuracy: 0.847368\n",
            "\n",
            "Optimal parameters for linear kernel: [97.68235282]\n",
            "SVM PSO Final Accuracy for linear kernel: 0.8473684210526315\n",
            "\n",
            "============================================================\n",
            "\n",
            "--- Kernel Rbf ---\n",
            "Iteration 1 (params: 16.086491, 0.023353) - Accuracy: 0.873684\n",
            "Iteration 2 (params: 18.409977, 1.000000) - Accuracy: 0.852632\n",
            "Iteration 3 (params: 31.744981, 0.957530) - Accuracy: 0.857895\n",
            "Iteration 4 (params: 80.283509, 0.393209) - Accuracy: 0.857895\n",
            "Iteration 5 (params: 16.346368, 0.027358) - Accuracy: 0.863158\n",
            "Iteration 6 (params: 15.653132, 0.026605) - Accuracy: 0.868421\n",
            "Iteration 7 (params: 15.902836, 0.016096) - Accuracy: 0.857895\n",
            "Iteration 8 (params: 16.265281, 0.025254) - Accuracy: 0.868421\n",
            "Iteration 9 (params: 16.245718, 0.028441) - Accuracy: 0.863158\n",
            "Iteration 10 (params: 15.907556, 0.013380) - Accuracy: 0.857895\n",
            "\n",
            "Optimal parameters for rbf kernel: [16.08649115  0.02335307]\n",
            "SVM PSO Final Accuracy for rbf kernel: 0.8736842105263158\n",
            "\n",
            "============================================================\n",
            "\n",
            "--- Kernel Sigmoid ---\n",
            "Iteration 1 (params: 33.285884, 0.693618, 0.542246) - Accuracy: 0.857895\n",
            "Iteration 2 (params: 33.440535, 0.345213, 0.918129) - Accuracy: 0.868421\n",
            "Iteration 3 (params: 24.081796, 0.121874, 1.000000) - Accuracy: 0.868421\n",
            "Iteration 4 (params: 43.741098, 0.476364, 1.000000) - Accuracy: 0.863158\n",
            "Iteration 5 (params: 33.444088, 0.345167, 0.904713) - Accuracy: 0.873684\n",
            "Iteration 6 (params: 34.031081, 0.445751, 1.000000) - Accuracy: 0.868421\n",
            "Iteration 7 (params: 33.447976, 0.297731, 0.904719) - Accuracy: 0.868421\n",
            "Iteration 8 (params: 32.592102, 0.453691, 1.000000) - Accuracy: 0.873684\n",
            "Iteration 9 (params: 33.444638, 0.300645, 0.905270) - Accuracy: 0.873684\n",
            "Iteration 10 (params: 27.406388, 0.577838, 1.000000) - Accuracy: 0.873684\n",
            "\n",
            "Optimal parameters for sigmoid kernel: [33.44408764  0.34516666  0.90471315]\n",
            "SVM PSO Final Accuracy for sigmoid kernel: 0.8736842105263158\n",
            "\n",
            "============================================================\n",
            "\n",
            "--- Kernel Poly ---\n",
            "Iteration 1 (params: 19.597135, 0.489393, 0.483283, 3.477707) - Accuracy: 0.847368\n",
            "Iteration 2 (params: 19.580316, 0.827623, 0.344687, 3.837502) - Accuracy: 0.868421\n",
            "Iteration 3 (params: 22.716311, 1.000000, 0.479201, 3.598259) - Accuracy: 0.868421\n",
            "Iteration 4 (params: 19.579196, 0.579362, 0.230359, 3.676082) - Accuracy: 0.868421\n",
            "Iteration 5 (params: 37.232750, 1.000000, 0.398150, 3.811374) - Accuracy: 0.868421\n",
            "Iteration 6 (params: 15.633939, 0.760340, 0.453767, 3.614789) - Accuracy: 0.868421\n",
            "Iteration 7 (params: 36.694745, 0.638485, 0.282245, 3.039025) - Accuracy: 0.868421\n",
            "Iteration 8 (params: 19.581705, 0.813449, 0.432168, 3.785182) - Accuracy: 0.868421\n",
            "Iteration 9 (params: 100.000000, 0.895611, 0.267803, 3.603258) - Accuracy: 0.868421\n",
            "Iteration 10 (params: 22.263259, 0.775641, 0.447764, 3.883218) - Accuracy: 0.868421\n",
            "\n",
            "Optimal parameters for poly kernel: [19.58031593  0.82762347  0.34468668  3.83750189]\n",
            "SVM PSO Final Accuracy for poly kernel: 0.868421052631579\n",
            "\n",
            "============================================================\n",
            "\n"
          ]
        }
      ]
    },
    {
      "cell_type": "markdown",
      "metadata": {
        "id": "2q_Xk5Nf6qVS"
      },
      "source": [
        "## Klasifikasi SVM"
      ]
    },
    {
      "cell_type": "markdown",
      "source": [
        "### Model SVM (baseline)"
      ],
      "metadata": {
        "id": "mO6dBu7Q0LtP"
      }
    },
    {
      "cell_type": "code",
      "source": [
        "# model SVM\n",
        "kernels = ['linear', 'rbf', 'sigmoid', 'poly']\n",
        "results = []\n",
        "\n",
        "for kernel in kernels:\n",
        "    svm_model = SVC(kernel=kernel, random_state=random_seed)\n",
        "    svm_model.fit(X_train_tfidf, y_train)\n",
        "    y_pred = svm_model.predict(X_test_tfidf)\n",
        "\n",
        "    acc = accuracy_score(y_test, y_pred)\n",
        "    prec = precision_score(y_test, y_pred, average='macro', zero_division=0)\n",
        "    rec = recall_score(y_test, y_pred, average='macro', zero_division=0)\n",
        "    f1 = f1_score(y_test, y_pred, average='macro', zero_division=0)\n",
        "\n",
        "    results.append({\n",
        "        'Kernel': kernel,\n",
        "        'Accuracy': round(acc, 6),\n",
        "        'Precision': round(prec, 6),\n",
        "        'Recall': round(rec, 6),\n",
        "        'F1-Score': round(f1, 6)\n",
        "    })\n",
        "\n",
        "result_svm = pd.DataFrame(results)\n",
        "print(result_svm)"
      ],
      "metadata": {
        "id": "P6siPlhN07vB",
        "colab": {
          "base_uri": "https://localhost:8080/"
        },
        "outputId": "01c42e67-85ed-475a-e3e1-7b2385b15bd9"
      },
      "execution_count": 15,
      "outputs": [
        {
          "output_type": "stream",
          "name": "stdout",
          "text": [
            "    Kernel  Accuracy  Precision    Recall  F1-Score\n",
            "0   linear  0.831579   0.808295  0.735929  0.759532\n",
            "1      rbf  0.805263   0.865302  0.643462  0.664775\n",
            "2  sigmoid  0.826316   0.808347  0.719918  0.745649\n",
            "3     poly  0.784211   0.886111  0.598039  0.599671\n"
          ]
        }
      ]
    },
    {
      "cell_type": "code",
      "source": [
        "# model SVM kernel RBF\n",
        "svm = SVC(kernel='rbf', random_state=random_seed)\n",
        "svm.fit(X_train_tfidf, y_train)\n",
        "y_pred_svm = svm.predict(X_test_tfidf)\n",
        "\n",
        "acc = accuracy_score(y_test, y_pred_svm)\n",
        "prec = precision_score(y_test, y_pred_svm, average='macro', zero_division=0)\n",
        "rec = recall_score(y_test, y_pred_svm, average='macro', zero_division=0)\n",
        "f1 = f1_score(y_test, y_pred_svm, average='macro', zero_division=0)\n",
        "\n",
        "print(\"Hasil Evaluasi SVM (Kernel RBF):\")\n",
        "print(f\"Akurasi  : {acc:.6f}\")\n",
        "print(f\"Presisi  : {prec:.6f}\")\n",
        "print(f\"Recall   : {rec:.6f}\")\n",
        "print(f\"F1-Score : {f1:.6f}\")"
      ],
      "metadata": {
        "colab": {
          "base_uri": "https://localhost:8080/"
        },
        "id": "JOGu7NTX6NO-",
        "outputId": "a467362c-29a3-4cde-b65d-73f35edcf2ff"
      },
      "execution_count": 16,
      "outputs": [
        {
          "output_type": "stream",
          "name": "stdout",
          "text": [
            "Hasil Evaluasi SVM (Kernel RBF):\n",
            "Akurasi  : 0.805263\n",
            "Presisi  : 0.865302\n",
            "Recall   : 0.643462\n",
            "F1-Score : 0.664775\n"
          ]
        }
      ]
    },
    {
      "cell_type": "markdown",
      "source": [
        "### Model SVM-ADASYN"
      ],
      "metadata": {
        "id": "xRnl09HJ0vd-"
      }
    },
    {
      "cell_type": "code",
      "source": [
        "# model SVM-ADASYN\n",
        "kernels = ['linear', 'rbf', 'sigmoid', 'poly']\n",
        "results_adasyn = []\n",
        "\n",
        "for kernel in kernels:\n",
        "    svm_model = SVC(kernel=kernel, random_state=random_seed)\n",
        "    svm_model.fit(X_train_adasyn, y_train_adasyn)\n",
        "    y_pred = svm_model.predict(X_test_tfidf)\n",
        "\n",
        "    acc = accuracy_score(y_test, y_pred)\n",
        "    prec = precision_score(y_test, y_pred, average='macro', zero_division=0)\n",
        "    rec = recall_score(y_test, y_pred, average='macro', zero_division=0)\n",
        "    f1 = f1_score(y_test, y_pred, average='macro', zero_division=0)\n",
        "\n",
        "    results_adasyn.append({\n",
        "        'Kernel': kernel,\n",
        "        'Accuracy': round(acc, 6),\n",
        "        'Precision': round(prec, 6),\n",
        "        'Recall': round(rec, 6),\n",
        "        'F1-Score': round(f1, 6)\n",
        "    })\n",
        "\n",
        "result_svm_adasyn = pd.DataFrame(results_adasyn)\n",
        "print(result_svm_adasyn)"
      ],
      "metadata": {
        "colab": {
          "base_uri": "https://localhost:8080/"
        },
        "id": "uHR2iAvmyOPs",
        "outputId": "1ff0145d-ead7-4d2d-898c-5e5cf3a6efe1"
      },
      "execution_count": 17,
      "outputs": [
        {
          "output_type": "stream",
          "name": "stdout",
          "text": [
            "    Kernel  Accuracy  Precision    Recall  F1-Score\n",
            "0   linear  0.868421   0.831522  0.835590  0.833514\n",
            "1      rbf  0.821053   0.857706  0.679080  0.708694\n",
            "2  sigmoid  0.852632   0.814155  0.806179  0.810000\n",
            "3     poly  0.805263   0.810877  0.662082  0.686315\n"
          ]
        }
      ]
    },
    {
      "cell_type": "code",
      "source": [
        "# model SVM-ADASYN kernel RBF\n",
        "svm_adasyn = SVC(kernel='rbf', random_state=random_seed)\n",
        "svm_adasyn.fit(X_train_adasyn, y_train_adasyn)\n",
        "y_pred_adasyn = svm_adasyn.predict(X_test_tfidf)\n",
        "\n",
        "acc_adasyn = accuracy_score(y_test, y_pred_adasyn)\n",
        "prec_adasyn = precision_score(y_test, y_pred_adasyn, average='macro', zero_division=0)\n",
        "rec_adasyn = recall_score(y_test, y_pred_adasyn, average='macro', zero_division=0)\n",
        "f1_adasyn = f1_score(y_test, y_pred_adasyn, average='macro', zero_division=0)\n",
        "\n",
        "print(\"Hasil Evaluasi SVM-ADASYN (Kernel RBF):\")\n",
        "print(f\"Akurasi  : {acc_adasyn:.6f}\")\n",
        "print(f\"Presisi  : {prec_adasyn:.6f}\")\n",
        "print(f\"Recall   : {rec_adasyn:.6f}\")\n",
        "print(f\"F1-Score : {f1_adasyn:.6f}\")"
      ],
      "metadata": {
        "colab": {
          "base_uri": "https://localhost:8080/"
        },
        "id": "h7E9e0SA8i4S",
        "outputId": "72a078fd-10f8-455c-ba31-b7367e05a78f"
      },
      "execution_count": 18,
      "outputs": [
        {
          "output_type": "stream",
          "name": "stdout",
          "text": [
            "Hasil Evaluasi SVM-ADASYN (Kernel RBF):\n",
            "Akurasi  : 0.821053\n",
            "Presisi  : 0.857706\n",
            "Recall   : 0.679080\n",
            "F1-Score : 0.708694\n"
          ]
        }
      ]
    },
    {
      "cell_type": "markdown",
      "source": [
        "### Model SVM-PSO"
      ],
      "metadata": {
        "id": "jZ7rnANv0p-3"
      }
    },
    {
      "cell_type": "code",
      "source": [
        "# model SVM-PSO\n",
        "svm_pso = SVC(kernel='rbf', C=65.38920271, gamma=0.43602484, random_state=random_seed)\n",
        "svm_pso.fit(X_train_tfidf, y_train)\n",
        "y_pred_pso = svm_pso.predict(X_test_tfidf)\n",
        "\n",
        "acc_pso = accuracy_score(y_test, y_pred_pso)\n",
        "prec_pso = precision_score(y_test, y_pred_pso, average='macro', zero_division=0)\n",
        "rec_pso = recall_score(y_test, y_pred_pso, average='macro', zero_division=0)\n",
        "f1_pso = f1_score(y_test, y_pred_pso, average='macro', zero_division=0)\n",
        "\n",
        "print(\"Hasil Evaluasi SVM-PSO (Kernel RBF):\")\n",
        "print(f\"Akurasi  : {acc_pso:.6f}\")\n",
        "print(f\"Presisi  : {prec_pso:.6f}\")\n",
        "print(f\"Recall   : {rec_pso:.6f}\")\n",
        "print(f\"F1-Score : {f1_pso:.6f}\")"
      ],
      "metadata": {
        "colab": {
          "base_uri": "https://localhost:8080/"
        },
        "id": "8NN2h1XryLhB",
        "outputId": "9190bf83-3919-48d7-fb86-07cf2c21c8fb"
      },
      "execution_count": 19,
      "outputs": [
        {
          "output_type": "stream",
          "name": "stdout",
          "text": [
            "Hasil Evaluasi SVM-PSO (Kernel RBF):\n",
            "Akurasi  : 0.857895\n",
            "Presisi  : 0.832046\n",
            "Recall   : 0.791155\n",
            "F1-Score : 0.807800\n"
          ]
        }
      ]
    },
    {
      "cell_type": "markdown",
      "source": [
        "### Model SVM-ADASYN-PSO"
      ],
      "metadata": {
        "id": "hVOdHbZr027t"
      }
    },
    {
      "cell_type": "code",
      "source": [
        "# model SVM-ADASYN-PSO\n",
        "svm_adasyn_pso = SVC(kernel='rbf', C=16.08649115, gamma=0.02335307, random_state=random_seed)\n",
        "svm_adasyn_pso.fit(X_train_adasyn, y_train_adasyn)\n",
        "y_pred_adasyn_pso = svm_adasyn_pso.predict(X_test_tfidf)\n",
        "\n",
        "acc_adasyn_pso = accuracy_score(y_test, y_pred_adasyn_pso)\n",
        "prec_adasyn_pso = precision_score(y_test, y_pred_adasyn_pso, average='macro', zero_division=0)\n",
        "rec_adasyn_pso = recall_score(y_test, y_pred_adasyn_pso, average='macro', zero_division=0)\n",
        "f1_adasyn_pso = f1_score(y_test, y_pred_adasyn_pso, average='macro', zero_division=0)\n",
        "\n",
        "print(\"Hasil Evaluasi SVM-ADASYN-PSO (Kernel RBF):\")\n",
        "print(f\"Akurasi  : {acc_adasyn_pso:.6f}\")\n",
        "print(f\"Presisi  : {prec_adasyn_pso:.6f}\")\n",
        "print(f\"Recall   : {rec_adasyn_pso:.6f}\")\n",
        "print(f\"F1-Score : {f1_adasyn_pso:.6f}\")"
      ],
      "metadata": {
        "colab": {
          "base_uri": "https://localhost:8080/"
        },
        "id": "ho-n7X8-y4M2",
        "outputId": "8c11d618-0c84-476b-c360-45b85716bc12"
      },
      "execution_count": 22,
      "outputs": [
        {
          "output_type": "stream",
          "name": "stdout",
          "text": [
            "Hasil Evaluasi SVM-ADASYN-PSO (Kernel RBF):\n",
            "Akurasi  : 0.873684\n",
            "Presisi  : 0.837213\n",
            "Recall   : 0.845394\n",
            "F1-Score : 0.841137\n"
          ]
        }
      ]
    },
    {
      "cell_type": "markdown",
      "metadata": {
        "id": "U_eLMzU07Ps_"
      },
      "source": [
        "## Evaluasi Model"
      ]
    },
    {
      "cell_type": "code",
      "source": [
        "model_names = ['SVM', 'SVM-ADASYN', 'SVM-PSO', 'SVM-ADASYN-PSO']\n",
        "predictions = [y_pred_svm, y_pred_adasyn, y_pred_pso, y_pred_adasyn_pso]\n",
        "\n",
        "results = []\n",
        "\n",
        "for name, y_pred in zip(model_names, predictions):\n",
        "    acc = accuracy_score(y_test, y_pred)\n",
        "    prec = precision_score(y_test, y_pred, zero_division=0)\n",
        "    rec = recall_score(y_test, y_pred, zero_division=0)\n",
        "    f1 = f1_score(y_test, y_pred, zero_division=0)\n",
        "\n",
        "    results.append({\n",
        "        'Model': name,\n",
        "        'Akurasi': round(acc, 6),\n",
        "        'Presisi': round(prec, 6),\n",
        "        'Recall': round(rec, 6),\n",
        "        'F1-Score': round(f1, 6)\n",
        "    })\n",
        "\n",
        "df_hasil_klasifikasi = pd.DataFrame(results)\n",
        "print(df_hasil_klasifikasi)"
      ],
      "metadata": {
        "colab": {
          "base_uri": "https://localhost:8080/"
        },
        "id": "ChVTMbC-Ar4G",
        "outputId": "a4e88035-080e-4a3b-d051-3345436d98d9"
      },
      "execution_count": 23,
      "outputs": [
        {
          "output_type": "stream",
          "name": "stdout",
          "text": [
            "            Model   Akurasi   Presisi    Recall  F1-Score\n",
            "0             SVM  0.805263  0.937500  0.294118  0.447761\n",
            "1      SVM-ADASYN  0.821053  0.904762  0.372549  0.527778\n",
            "2         SVM-PSO  0.857895  0.785714  0.647059  0.709677\n",
            "3  SVM-ADASYN-PSO  0.873684  0.754717  0.784314  0.769231\n"
          ]
        }
      ]
    },
    {
      "cell_type": "markdown",
      "source": [
        "### Perbandingan Hasil Evaluasi Model SVM dan SVM-ADASYN-PSO Kernel RBF"
      ],
      "metadata": {
        "id": "3wDo3b84_y4z"
      }
    },
    {
      "cell_type": "code",
      "execution_count": 24,
      "metadata": {
        "id": "eFIH0wfZ7TNK",
        "colab": {
          "base_uri": "https://localhost:8080/",
          "height": 507
        },
        "outputId": "ece253de-b2a0-4604-f9a6-97aabbf2fddf"
      },
      "outputs": [
        {
          "output_type": "display_data",
          "data": {
            "text/plain": [
              "<Figure size 1200x500 with 4 Axes>"
            ],
            "image/png": "[encoded data removed]"
          },
          "metadata": {}
        }
      ],
      "source": [
        "matrix_svm = confusion_matrix(y_test, y_pred_svm)\n",
        "matrix_adasyn_pso = confusion_matrix(y_test, y_pred_adasyn_pso)\n",
        "\n",
        "labels = ['Negatif', 'Positif']\n",
        "df_cm_svm = pd.DataFrame(matrix_svm, index=labels, columns=labels)\n",
        "df_cm_adasyn_pso = pd.DataFrame(matrix_adasyn_pso, index=labels, columns=labels)\n",
        "\n",
        "fig, axes = plt.subplots(1, 2, figsize=(12, 5))\n",
        "\n",
        "sns.heatmap(df_cm_svm, annot=True, cmap=\"YlOrBr\", fmt='g', ax=axes[0], annot_kws={\"fontsize\":24})\n",
        "axes[0].set_title(\"Confusion Matrix 'SVM' Kernel RBF\", pad=15, fontsize=15)\n",
        "axes[0].set_xlabel(\"Prediksi\", fontsize=13)\n",
        "axes[0].set_ylabel(\"Aktual\", fontsize=13)\n",
        "axes[0].tick_params(axis='both', labelsize=12)\n",
        "\n",
        "sns.heatmap(df_cm_adasyn_pso, annot=True, cmap=\"YlOrBr\", fmt='g', ax=axes[1], annot_kws={\"fontsize\":24})\n",
        "axes[1].set_title(\"Confusion Matrix 'SVM-ADASYN-PSO' Kernel RBF\", pad=15, fontsize=15)\n",
        "axes[1].set_xlabel(\"Prediksi\", fontsize=13)\n",
        "axes[1].set_ylabel(\"Aktual\", fontsize=13)\n",
        "axes[1].tick_params(axis='both', labelsize=12)\n",
        "\n",
        "plt.tight_layout()\n",
        "plt.show()"
      ]
    },
    {
      "cell_type": "code",
      "source": [
        "print(\"=== Classification Report SVM ===\\n\")\n",
        "print(classification_report(y_test, y_pred_svm, target_names=['Negatif', 'Positif']))"
      ],
      "metadata": {
        "colab": {
          "base_uri": "https://localhost:8080/"
        },
        "id": "_UGmlepqmx38",
        "outputId": "0838c5bc-de06-4c02-b900-70ff123cddd6"
      },
      "execution_count": 25,
      "outputs": [
        {
          "output_type": "stream",
          "name": "stdout",
          "text": [
            "=== Classification Report SVM ===\n",
            "\n",
            "              precision    recall  f1-score   support\n",
            "\n",
            "     Negatif       0.79      0.99      0.88       139\n",
            "     Positif       0.94      0.29      0.45        51\n",
            "\n",
            "    accuracy                           0.81       190\n",
            "   macro avg       0.87      0.64      0.66       190\n",
            "weighted avg       0.83      0.81      0.77       190\n",
            "\n"
          ]
        }
      ]
    },
    {
      "cell_type": "code",
      "source": [
        "print(\"=== Classification Report SVM-ADASYN-PSO ===\\n\")\n",
        "print(classification_report(y_test, y_pred_adasyn_pso, target_names=['Negatif', 'Positif']))"
      ],
      "metadata": {
        "colab": {
          "base_uri": "https://localhost:8080/"
        },
        "id": "UlMPz7F3mSga",
        "outputId": "b117f6fd-d12d-4b11-a357-d9dfc6ec771d"
      },
      "execution_count": 26,
      "outputs": [
        {
          "output_type": "stream",
          "name": "stdout",
          "text": [
            "=== Classification Report SVM-ADASYN-PSO ===\n",
            "\n",
            "              precision    recall  f1-score   support\n",
            "\n",
            "     Negatif       0.92      0.91      0.91       139\n",
            "     Positif       0.75      0.78      0.77        51\n",
            "\n",
            "    accuracy                           0.87       190\n",
            "   macro avg       0.84      0.85      0.84       190\n",
            "weighted avg       0.88      0.87      0.87       190\n",
            "\n"
          ]
        }
      ]
    },
    {
      "cell_type": "markdown",
      "source": [
        "### Perbandingan Hasil Evaluasi 4 Model"
      ],
      "metadata": {
        "id": "oD0R9kRB8kW7"
      }
    },
    {
      "cell_type": "code",
      "source": [
        "def evaluate_model(y_true, y_pred, label):\n",
        "    return {\n",
        "        'Model': label,\n",
        "        'Accuracy': accuracy_score(y_true, y_pred),\n",
        "        'Precision': precision_score(y_true, y_pred, average='macro', zero_division=0),\n",
        "        'Recall': recall_score(y_true, y_pred, average='macro', zero_division=0),\n",
        "        'F1-score': f1_score(y_true, y_pred, average='macro', zero_division=0)\n",
        "    }\n",
        "\n",
        "result_model = []\n",
        "result_model.append(evaluate_model(y_test, y_pred_svm, \"SVM\"))\n",
        "result_model.append(evaluate_model(y_test, y_pred_adasyn, \"SVM-ADASYN\"))\n",
        "result_model.append(evaluate_model(y_test, y_pred_pso, \"SVM-PSO\"))\n",
        "result_model.append(evaluate_model(y_test, y_pred_adasyn_pso, \"SVM-ADASYN-PSO\"))\n",
        "\n",
        "df_compare = pd.DataFrame(result_model)\n",
        "df_melt = df_compare.melt(id_vars='Model', var_name='Metric', value_name='Score')\n",
        "df_melt['Score'] = df_melt['Score'] * 100\n",
        "\n",
        "plt.figure(figsize=(10, 6))\n",
        "ax = sns.barplot(data=df_melt, x='Metric', y='Score', hue='Model', palette='plasma')\n",
        "ax.tick_params(axis='both', length=0)\n",
        "\n",
        "for container in ax.containers:\n",
        "    ax.bar_label(container, fmt='%.2f%%', label_type='edge', color='white', fontsize=8, padding=-20)\n",
        "\n",
        "plt.title('Perbandingan Metrik Evaluasi 4 Model Klasifikasi', pad=10)\n",
        "plt.ylabel('Skor (%)')\n",
        "plt.ylim(0, 105)\n",
        "plt.legend(title='Model', loc='upper center', bbox_to_anchor=(0.5, -0.12), ncol=4, frameon=False)\n",
        "plt.tight_layout()\n",
        "plt.show()"
      ],
      "metadata": {
        "colab": {
          "base_uri": "https://localhost:8080/",
          "height": 603
        },
        "id": "yOVNrFydBoh0",
        "outputId": "86cba049-07e4-4d02-d259-45aa8e62fd22"
      },
      "execution_count": 27,
      "outputs": [
        {
          "output_type": "display_data",
          "data": {
            "text/plain": [
              "<Figure size 1000x600 with 1 Axes>"
            ],
            "image/png": "[encoded data removed]"
          },
          "metadata": {}
        }
      ]
    }
  ],
  "metadata": {
    "colab": {
      "provenance": [],
      "toc_visible": true
    },
    "kernelspec": {
      "display_name": "Python 3",
      "name": "python3"
    },
    "language_info": {
      "name": "python"
    }
  },
  "nbformat": 4,
  "nbformat_minor": 0
}